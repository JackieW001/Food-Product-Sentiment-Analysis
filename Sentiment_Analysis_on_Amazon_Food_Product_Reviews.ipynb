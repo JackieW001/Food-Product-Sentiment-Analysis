{
  "nbformat": 4,
  "nbformat_minor": 0,
  "metadata": {
    "colab": {
      "name": "Sentiment Analysis on Amazon Food Product Reviews",
      "provenance": [],
      "collapsed_sections": [],
      "toc_visible": true,
      "include_colab_link": true
    },
    "kernelspec": {
      "display_name": "Python 3",
      "name": "python3"
    }
  },
  "cells": [
    {
      "cell_type": "markdown",
      "metadata": {
        "id": "view-in-github",
        "colab_type": "text"
      },
      "source": [
        "<a href=\"https://colab.research.google.com/github/JackieW001/Food-Product-Sentiment-Analysis/blob/main/Sentiment_Analysis_on_Amazon_Food_Product_Reviews.ipynb\" target=\"_parent\"><img src=\"https://colab.research.google.com/assets/colab-badge.svg\" alt=\"Open In Colab\"/></a>"
      ]
    },
    {
      "cell_type": "markdown",
      "metadata": {
        "id": "ARn9BAN5shDT"
      },
      "source": [
        "# Sentiment Analysis on Amazon Food Product Reviews\n",
        "\n",
        "Timothy Shi (gs522) and Jackie Woo (jmw499)"
      ]
    },
    {
      "cell_type": "markdown",
      "metadata": {
        "id": "0ZZXtoMISVM1"
      },
      "source": [
        "# Notebook setup\n",
        "1.   Import libraries\n",
        "2.   Authorize Google client\n",
        "\n"
      ]
    },
    {
      "cell_type": "code",
      "metadata": {
        "colab": {
          "base_uri": "https://localhost:8080/"
        },
        "id": "x7Aw_Nq_SRYh",
        "outputId": "bd33bfb8-6d8d-4854-d890-c617b28bf921"
      },
      "source": [
        "import pandas as pd\n",
        "!pip install -U -q PyDrive\n",
        "from pydrive.auth import GoogleAuth\n",
        "from pydrive.drive import GoogleDrive\n",
        "from google.colab import auth\n",
        "from oauth2client.client import GoogleCredentials\n",
        "from sklearn import metrics\n",
        "from sklearn.model_selection import train_test_split\n",
        "import random \n",
        "import matplotlib.pyplot as plt\n",
        "import numpy as np\n",
        "import warnings\n",
        "warnings.filterwarnings('always')\n",
        "warnings.filterwarnings('ignore')\n",
        "\n",
        "#nltk\n",
        "import nltk\n",
        "nltk.download('punkt')\n",
        "nltk.download('stopwords')\n",
        "nltk.download('wordnet')\n",
        "\n",
        "#preprocessing\n",
        "from nltk.corpus import stopwords  #stopwords\n",
        "from nltk import word_tokenize,sent_tokenize # tokenizing\n",
        "from nltk.stem import PorterStemmer,LancasterStemmer  # using the Porter Stemmer and Lancaster Stemmer and others\n",
        "from nltk.stem.snowball import SnowballStemmer\n",
        "from nltk.stem import WordNetLemmatizer  # lammatizer from WordNet\n",
        "\n",
        "# for word-to-vec\n",
        "import gensim\n",
        "\n",
        "# keras\n",
        "import keras\n",
        "from keras.preprocessing.text import one_hot,Tokenizer\n",
        "from keras.preprocessing.text import text_to_word_sequence\n",
        "from keras.preprocessing.sequence import pad_sequences\n",
        "\n",
        "from keras.models import Sequential\n",
        "from keras.layers import Dense, Flatten, Embedding, Input, LSTM, Bidirectional\n",
        "from keras.models import Model\n",
        "from keras.initializers import Constant\n",
        "from keras.layers import ReLU\n",
        "from keras.layers import Dropout\n",
        "\n",
        "from keras.models import model_from_json\n",
        "from keras.models import load_model\n",
        "\n",
        "# for part-of-speech tagging\n",
        "from nltk import pos_tag\n",
        "\n",
        "# for named entity recognition (NER)\n",
        "from nltk import ne_chunk\n",
        "\n",
        "# vectorizers for creating the document-term-matrix (DTM)\n",
        "from sklearn.feature_extraction.text import TfidfVectorizer,CountVectorizer\n",
        "\n",
        "# BeautifulSoup libraray\n",
        "from bs4 import BeautifulSoup \n",
        "\n",
        "import re # regex\n",
        "from pprint import pprint\n",
        "\n",
        "from pandas import DataFrame \n",
        "from sklearn.feature_extraction.text import CountVectorizer\n",
        "\n",
        "# Authenticate and create the PyDrive client.\n",
        "auth.authenticate_user()\n",
        "gauth = GoogleAuth()\n",
        "gauth.credentials = GoogleCredentials.get_application_default()\n",
        "drive = GoogleDrive(gauth)"
      ],
      "execution_count": null,
      "outputs": [
        {
          "output_type": "stream",
          "text": [
            "[nltk_data] Downloading package punkt to /root/nltk_data...\n",
            "[nltk_data]   Package punkt is already up-to-date!\n",
            "[nltk_data] Downloading package stopwords to /root/nltk_data...\n",
            "[nltk_data]   Package stopwords is already up-to-date!\n",
            "[nltk_data] Downloading package wordnet to /root/nltk_data...\n",
            "[nltk_data]   Package wordnet is already up-to-date!\n"
          ],
          "name": "stdout"
        }
      ]
    },
    {
      "cell_type": "markdown",
      "metadata": {
        "id": "hBIDyQ0iR1Tc"
      },
      "source": [
        "# Loading Data from Kaggle"
      ]
    },
    {
      "cell_type": "code",
      "metadata": {
        "id": "4o76JWy8aBTi"
      },
      "source": [
        "# We extract the data Amazon Fine Food Reviews (https://www.kaggle.com/snap/amazon-fine-food-reviews) from kaggle\n",
        "id = '1fczkNQtaNRonaITPztmoMU_pTnQh01aO'\n",
        "\n",
        "downloaded = drive.CreateFile({'id':id}) \n",
        "downloaded.GetContentFile('googleplaystore.csv')  \n",
        "df = pd.read_csv('googleplaystore.csv')\n",
        "df2 = pd.read_csv('googleplaystore.csv')"
      ],
      "execution_count": null,
      "outputs": []
    },
    {
      "cell_type": "code",
      "metadata": {
        "colab": {
          "base_uri": "https://localhost:8080/",
          "height": 289
        },
        "id": "0GjuBiqBeJRO",
        "outputId": "5a60b2ee-83c0-4260-9d0f-c7057026aad3"
      },
      "source": [
        "df.head()"
      ],
      "execution_count": null,
      "outputs": [
        {
          "output_type": "execute_result",
          "data": {
            "text/html": [
              "<div>\n",
              "<style scoped>\n",
              "    .dataframe tbody tr th:only-of-type {\n",
              "        vertical-align: middle;\n",
              "    }\n",
              "\n",
              "    .dataframe tbody tr th {\n",
              "        vertical-align: top;\n",
              "    }\n",
              "\n",
              "    .dataframe thead th {\n",
              "        text-align: right;\n",
              "    }\n",
              "</style>\n",
              "<table border=\"1\" class=\"dataframe\">\n",
              "  <thead>\n",
              "    <tr style=\"text-align: right;\">\n",
              "      <th></th>\n",
              "      <th>Id</th>\n",
              "      <th>ProductId</th>\n",
              "      <th>UserId</th>\n",
              "      <th>ProfileName</th>\n",
              "      <th>HelpfulnessNumerator</th>\n",
              "      <th>HelpfulnessDenominator</th>\n",
              "      <th>Score</th>\n",
              "      <th>Time</th>\n",
              "      <th>Summary</th>\n",
              "      <th>Text</th>\n",
              "    </tr>\n",
              "  </thead>\n",
              "  <tbody>\n",
              "    <tr>\n",
              "      <th>0</th>\n",
              "      <td>1</td>\n",
              "      <td>B001E4KFG0</td>\n",
              "      <td>A3SGXH7AUHU8GW</td>\n",
              "      <td>delmartian</td>\n",
              "      <td>1</td>\n",
              "      <td>1</td>\n",
              "      <td>5</td>\n",
              "      <td>1303862400</td>\n",
              "      <td>Good Quality Dog Food</td>\n",
              "      <td>I have bought several of the Vitality canned d...</td>\n",
              "    </tr>\n",
              "    <tr>\n",
              "      <th>1</th>\n",
              "      <td>2</td>\n",
              "      <td>B00813GRG4</td>\n",
              "      <td>A1D87F6ZCVE5NK</td>\n",
              "      <td>dll pa</td>\n",
              "      <td>0</td>\n",
              "      <td>0</td>\n",
              "      <td>1</td>\n",
              "      <td>1346976000</td>\n",
              "      <td>Not as Advertised</td>\n",
              "      <td>Product arrived labeled as Jumbo Salted Peanut...</td>\n",
              "    </tr>\n",
              "    <tr>\n",
              "      <th>2</th>\n",
              "      <td>3</td>\n",
              "      <td>B000LQOCH0</td>\n",
              "      <td>ABXLMWJIXXAIN</td>\n",
              "      <td>Natalia Corres \"Natalia Corres\"</td>\n",
              "      <td>1</td>\n",
              "      <td>1</td>\n",
              "      <td>4</td>\n",
              "      <td>1219017600</td>\n",
              "      <td>\"Delight\" says it all</td>\n",
              "      <td>This is a confection that has been around a fe...</td>\n",
              "    </tr>\n",
              "    <tr>\n",
              "      <th>3</th>\n",
              "      <td>4</td>\n",
              "      <td>B000UA0QIQ</td>\n",
              "      <td>A395BORC6FGVXV</td>\n",
              "      <td>Karl</td>\n",
              "      <td>3</td>\n",
              "      <td>3</td>\n",
              "      <td>2</td>\n",
              "      <td>1307923200</td>\n",
              "      <td>Cough Medicine</td>\n",
              "      <td>If you are looking for the secret ingredient i...</td>\n",
              "    </tr>\n",
              "    <tr>\n",
              "      <th>4</th>\n",
              "      <td>5</td>\n",
              "      <td>B006K2ZZ7K</td>\n",
              "      <td>A1UQRSCLF8GW1T</td>\n",
              "      <td>Michael D. Bigham \"M. Wassir\"</td>\n",
              "      <td>0</td>\n",
              "      <td>0</td>\n",
              "      <td>5</td>\n",
              "      <td>1350777600</td>\n",
              "      <td>Great taffy</td>\n",
              "      <td>Great taffy at a great price.  There was a wid...</td>\n",
              "    </tr>\n",
              "  </tbody>\n",
              "</table>\n",
              "</div>"
            ],
            "text/plain": [
              "   Id  ...                                               Text\n",
              "0   1  ...  I have bought several of the Vitality canned d...\n",
              "1   2  ...  Product arrived labeled as Jumbo Salted Peanut...\n",
              "2   3  ...  This is a confection that has been around a fe...\n",
              "3   4  ...  If you are looking for the secret ingredient i...\n",
              "4   5  ...  Great taffy at a great price.  There was a wid...\n",
              "\n",
              "[5 rows x 10 columns]"
            ]
          },
          "metadata": {
            "tags": []
          },
          "execution_count": 3
        }
      ]
    },
    {
      "cell_type": "markdown",
      "metadata": {
        "id": "0fUxauIxUOhF"
      },
      "source": [
        "# Dataset Exploration - Visualizing the Data"
      ]
    },
    {
      "cell_type": "code",
      "metadata": {
        "colab": {
          "base_uri": "https://localhost:8080/",
          "height": 1000
        },
        "id": "r2IAOpcHSK8n",
        "outputId": "254997bb-2bab-4816-80d5-d593a91c88ee"
      },
      "source": [
        "# Counts frequency of numerical product ratings (1-5 stars)\n",
        "product_num_rating = {}\n",
        "# Counts frequency of upvotes of all product reviews\n",
        "helpful_pos = {}\n",
        "# Counts frequency of downvotes of all product reviews\n",
        "helpful_neg = {}\n",
        "# Count frequency of helpfulness upvotes/downvotes to score\n",
        "upvotes_vs_score = {}\n",
        "downvotes_vs_score = {}\n",
        "\n",
        "def update_dictionary_count(dictionary, key):\n",
        "    if key in dictionary:\n",
        "        dictionary[key] += 1\n",
        "    else:\n",
        "        dictionary[key] = 1\n",
        "\n",
        "total_entries=0\n",
        "for (h_pos, h_denom, score) in zip(df['HelpfulnessNumerator'], df['HelpfulnessDenominator'], df['Score']):\n",
        "  update_dictionary_count(helpful_pos, h_pos)\n",
        "\n",
        "  h_neg = h_denom - h_pos\n",
        "  update_dictionary_count(helpful_neg, h_neg)\n",
        "\n",
        "  update_dictionary_count(product_num_rating, score)\n",
        "\n",
        "  for i in range(h_pos):\n",
        "    update_dictionary_count(upvotes_vs_score, score)\n",
        "  for i in range(h_neg):\n",
        "    update_dictionary_count(downvotes_vs_score, score)\n",
        "\n",
        "  total_entries += 1\n",
        "\n",
        "print(\"Total entries (568454): \" + str(total_entries))\n",
        "\n",
        "# Rating plot\n",
        "rating_fig = plt.figure(figsize=(7.5,5.625)).add_subplot(111)\n",
        "rating_fig.bar(product_num_rating.keys(), product_num_rating.values())\n",
        "rating_fig.set_ylabel('Number of Customers')\n",
        "rating_fig.set_xlabel('Rating')\n",
        "rating_fig.set_title('Product Ratings')\n",
        "plt.savefig(\"Product_Ratings.png\")\n",
        "plt.show()\n",
        "\n",
        "# Upvotes plot\n",
        "helpful_pos_fig = plt.figure(figsize=(7.5,5.625)).add_subplot(111)\n",
        "helpful_pos_fig.bar(helpful_pos.keys(), helpful_pos.values())\n",
        "helpful_pos_fig.set_ylim([0,50000])\n",
        "helpful_pos_fig.set_ylabel('Number of Customers')\n",
        "helpful_pos_fig.set_xlabel('Number of Upvotes')\n",
        "helpful_pos_fig.set_title('Total Helpfulness Upvotes of Customer Ratings')\n",
        "plt.savefig(\"Total_Helpfulness_Upvotes_of_Customer_Ratings.png\")\n",
        "plt.show()\n",
        "\n",
        "# Downvotes plot\n",
        "helpful_neg_fig = plt.figure(figsize=(7.5,5.625)).add_subplot(111)\n",
        "helpful_neg_fig.bar(helpful_neg.keys(), helpful_neg.values())\n",
        "helpful_neg_fig.set_ylabel('Number of Customers')\n",
        "helpful_neg_fig.set_xlabel('Number of Downvotes')\n",
        "helpful_neg_fig.set_title('Total Helpfulness Downvotes of Customer Ratings')\n",
        "plt.savefig(\"Total_Helpfulness_Downvotes_of_Customer_Ratings.png\")\n",
        "plt.show()\n",
        "\n",
        "# Helpfulness to Scores plot\n",
        "ind = np.arange(5)  # the x locations for the groups\n",
        "width = 0.2       # the width of the bars\n",
        "\n",
        "upvotes_vs_score_lst = [upvotes_vs_score[key] for key in sorted(upvotes_vs_score.keys())]\n",
        "downvotes_vs_score_lst = [downvotes_vs_score[key] for key in sorted(downvotes_vs_score.keys())]\n",
        "counts = np.asarray([upvotes_vs_score_lst,downvotes_vs_score_lst])\n",
        "\n",
        "fig, ax = plt.subplots(figsize=(7.5,5.625))\n",
        "\n",
        "labels = [\"Upvotes\",\"Downvotes\"]\n",
        "for i in range(2):\n",
        "  ax.bar(ind + (i*width), counts[i], width, label=labels[i])\n",
        "\n",
        "ax.set_xticks(ind + width/2)\n",
        "ax.set_xticklabels([i+1 for i in range(5)])\n",
        "\n",
        "plt.title(\"Helpfulness vs Score\")\n",
        "plt.ylabel(\"Helpfulness Votes\")\n",
        "plt.xlabel(\"Score\")\n",
        "plt.legend(loc='best', title=\"Helpfulness\")\n",
        "plt.savefig(\"Helpfulness_vs_Score.png\")\n",
        "plt.show()"
      ],
      "execution_count": null,
      "outputs": [
        {
          "output_type": "stream",
          "text": [
            "Total entries (568454): 568454\n"
          ],
          "name": "stdout"
        },
        {
          "output_type": "display_data",
          "data": {
            "image/png": "[encoded data removed]",
            "text/plain": [
              "<Figure size 540x405 with 1 Axes>"
            ]
          },
          "metadata": {
            "tags": [],
            "needs_background": "light"
          }
        },
        {
          "output_type": "display_data",
          "data": {
            "image/png": "[encoded data removed]",
            "text/plain": [
              "<Figure size 540x405 with 1 Axes>"
            ]
          },
          "metadata": {
            "tags": [],
            "needs_background": "light"
          }
        },
        {
          "output_type": "display_data",
          "data": {
            "image/png": "[encoded data removed]",
            "text/plain": [
              "<Figure size 540x405 with 1 Axes>"
            ]
          },
          "metadata": {
            "tags": [],
            "needs_background": "light"
          }
        },
        {
          "output_type": "display_data",
          "data": {
            "image/png": "[encoded data removed]",
            "text/plain": [
              "<Figure size 540x405 with 1 Axes>"
            ]
          },
          "metadata": {
            "tags": [],
            "needs_background": "light"
          }
        }
      ]
    },
    {
      "cell_type": "markdown",
      "metadata": {
        "id": "9_l4PkfQbIQw"
      },
      "source": [
        "### Dataset Exploration Quick Analysis\n",
        "*   Most product ratings are a 5.\n",
        "*   Most product rating helpfulness is neutral (0 upvotes and 0 downvotes)\n",
        "*   Most product ratings = 5 have majority number of helpfulness upvotes (helpful review for good product). Product ratings = 1 have second most number of helpfulness upvotes (helpful review for a bad product).\n",
        "*   Highest number of helpfulness downvotes is when product ratings = 1\n",
        "\n"
      ]
    },
    {
      "cell_type": "markdown",
      "metadata": {
        "id": "1XTfxfEMb6Aw"
      },
      "source": [
        "# Dataset and Text Preprocessing"
      ]
    },
    {
      "cell_type": "code",
      "metadata": {
        "id": "XwNDuBDCqJAA"
      },
      "source": [
        "# extract the review text and rating\n",
        "df=df[['Text','Score']]\n",
        "df['review']=df['Text']\n",
        "df['rating']=df['Score']\n",
        "df.drop(['Text','Score'],axis=1,inplace=True)"
      ],
      "execution_count": null,
      "outputs": []
    },
    {
      "cell_type": "code",
      "metadata": {
        "colab": {
          "base_uri": "https://localhost:8080/",
          "height": 204
        },
        "id": "WXK5-JzIxQbv",
        "outputId": "c3950228-6c1e-48f8-f67c-14cdab7d5554"
      },
      "source": [
        "df.head()"
      ],
      "execution_count": null,
      "outputs": [
        {
          "output_type": "execute_result",
          "data": {
            "text/html": [
              "<div>\n",
              "<style scoped>\n",
              "    .dataframe tbody tr th:only-of-type {\n",
              "        vertical-align: middle;\n",
              "    }\n",
              "\n",
              "    .dataframe tbody tr th {\n",
              "        vertical-align: top;\n",
              "    }\n",
              "\n",
              "    .dataframe thead th {\n",
              "        text-align: right;\n",
              "    }\n",
              "</style>\n",
              "<table border=\"1\" class=\"dataframe\">\n",
              "  <thead>\n",
              "    <tr style=\"text-align: right;\">\n",
              "      <th></th>\n",
              "      <th>review</th>\n",
              "      <th>rating</th>\n",
              "    </tr>\n",
              "  </thead>\n",
              "  <tbody>\n",
              "    <tr>\n",
              "      <th>0</th>\n",
              "      <td>I have bought several of the Vitality canned d...</td>\n",
              "      <td>5</td>\n",
              "    </tr>\n",
              "    <tr>\n",
              "      <th>1</th>\n",
              "      <td>Product arrived labeled as Jumbo Salted Peanut...</td>\n",
              "      <td>1</td>\n",
              "    </tr>\n",
              "    <tr>\n",
              "      <th>2</th>\n",
              "      <td>This is a confection that has been around a fe...</td>\n",
              "      <td>4</td>\n",
              "    </tr>\n",
              "    <tr>\n",
              "      <th>3</th>\n",
              "      <td>If you are looking for the secret ingredient i...</td>\n",
              "      <td>2</td>\n",
              "    </tr>\n",
              "    <tr>\n",
              "      <th>4</th>\n",
              "      <td>Great taffy at a great price.  There was a wid...</td>\n",
              "      <td>5</td>\n",
              "    </tr>\n",
              "  </tbody>\n",
              "</table>\n",
              "</div>"
            ],
            "text/plain": [
              "                                              review  rating\n",
              "0  I have bought several of the Vitality canned d...       5\n",
              "1  Product arrived labeled as Jumbo Salted Peanut...       1\n",
              "2  This is a confection that has been around a fe...       4\n",
              "3  If you are looking for the secret ingredient i...       2\n",
              "4  Great taffy at a great price.  There was a wid...       5"
            ]
          },
          "metadata": {
            "tags": []
          },
          "execution_count": 6
        }
      ]
    },
    {
      "cell_type": "code",
      "metadata": {
        "colab": {
          "base_uri": "https://localhost:8080/"
        },
        "id": "SJnp6a6RxeCu",
        "outputId": "f7989f0c-121c-4193-be36-80f7d59fe92a"
      },
      "source": [
        "# any null values?\n",
        "print(df['rating'].isnull().sum())\n",
        "print(df['review'].isnull().sum())  \n",
        "# no null values."
      ],
      "execution_count": null,
      "outputs": [
        {
          "output_type": "stream",
          "text": [
            "0\n",
            "0\n"
          ],
          "name": "stdout"
        }
      ]
    },
    {
      "cell_type": "code",
      "metadata": {
        "colab": {
          "base_uri": "https://localhost:8080/"
        },
        "id": "VmSjt5N4xqCs",
        "outputId": "5971fceb-aa95-478e-b9ff-387f3afe95a0"
      },
      "source": [
        "# remove duplicate and only keep one row\n",
        "df.drop_duplicates(subset=['rating','review'],keep='first',inplace=True) \n",
        "print(df.shape)\n",
        "# reduce to (393675, 2)"
      ],
      "execution_count": null,
      "outputs": [
        {
          "output_type": "stream",
          "text": [
            "(393675, 2)\n"
          ],
          "name": "stdout"
        }
      ]
    },
    {
      "cell_type": "code",
      "metadata": {
        "colab": {
          "base_uri": "https://localhost:8080/"
        },
        "id": "6XBXFJmsyBKu",
        "outputId": "3ef79a81-651b-4aa6-9cb4-19986745c0d6"
      },
      "source": [
        "# example review:\n",
        "for review in df['review'][:5]:\n",
        "    print(review+'\\n'+'\\n')"
      ],
      "execution_count": null,
      "outputs": [
        {
          "output_type": "stream",
          "text": [
            "I have bought several of the Vitality canned dog food products and have found them all to be of good quality. The product looks more like a stew than a processed meat and it smells better. My Labrador is finicky and she appreciates this product better than  most.\n",
            "\n",
            "\n",
            "Product arrived labeled as Jumbo Salted Peanuts...the peanuts were actually small sized unsalted. Not sure if this was an error or if the vendor intended to represent the product as \"Jumbo\".\n",
            "\n",
            "\n",
            "This is a confection that has been around a few centuries.  It is a light, pillowy citrus gelatin with nuts - in this case Filberts. And it is cut into tiny squares and then liberally coated with powdered sugar.  And it is a tiny mouthful of heaven.  Not too chewy, and very flavorful.  I highly recommend this yummy treat.  If you are familiar with the story of C.S. Lewis' \"The Lion, The Witch, and The Wardrobe\" - this is the treat that seduces Edmund into selling out his Brother and Sisters to the Witch.\n",
            "\n",
            "\n",
            "If you are looking for the secret ingredient in Robitussin I believe I have found it.  I got this in addition to the Root Beer Extract I ordered (which was good) and made some cherry soda.  The flavor is very medicinal.\n",
            "\n",
            "\n",
            "Great taffy at a great price.  There was a wide assortment of yummy taffy.  Delivery was very quick.  If your a taffy lover, this is a deal.\n",
            "\n",
            "\n"
          ],
          "name": "stdout"
        }
      ]
    },
    {
      "cell_type": "code",
      "metadata": {
        "colab": {
          "base_uri": "https://localhost:8080/",
          "height": 204
        },
        "id": "y_PHzHfHyL_O",
        "outputId": "f434219e-8b50-48b5-c9d1-fe045bd601be"
      },
      "source": [
        "# converting the ratings to binary 0 and 1\n",
        "def mark_sentiment(rating):\n",
        "  if(rating<=3):\n",
        "    return 0\n",
        "  else:\n",
        "    return 1\n",
        "\n",
        "df['sentiment']=df['rating'].apply(mark_sentiment)\n",
        "df.drop(['rating'],axis=1,inplace=True)\n",
        "df.head()"
      ],
      "execution_count": null,
      "outputs": [
        {
          "output_type": "execute_result",
          "data": {
            "text/html": [
              "<div>\n",
              "<style scoped>\n",
              "    .dataframe tbody tr th:only-of-type {\n",
              "        vertical-align: middle;\n",
              "    }\n",
              "\n",
              "    .dataframe tbody tr th {\n",
              "        vertical-align: top;\n",
              "    }\n",
              "\n",
              "    .dataframe thead th {\n",
              "        text-align: right;\n",
              "    }\n",
              "</style>\n",
              "<table border=\"1\" class=\"dataframe\">\n",
              "  <thead>\n",
              "    <tr style=\"text-align: right;\">\n",
              "      <th></th>\n",
              "      <th>review</th>\n",
              "      <th>sentiment</th>\n",
              "    </tr>\n",
              "  </thead>\n",
              "  <tbody>\n",
              "    <tr>\n",
              "      <th>0</th>\n",
              "      <td>I have bought several of the Vitality canned d...</td>\n",
              "      <td>1</td>\n",
              "    </tr>\n",
              "    <tr>\n",
              "      <th>1</th>\n",
              "      <td>Product arrived labeled as Jumbo Salted Peanut...</td>\n",
              "      <td>0</td>\n",
              "    </tr>\n",
              "    <tr>\n",
              "      <th>2</th>\n",
              "      <td>This is a confection that has been around a fe...</td>\n",
              "      <td>1</td>\n",
              "    </tr>\n",
              "    <tr>\n",
              "      <th>3</th>\n",
              "      <td>If you are looking for the secret ingredient i...</td>\n",
              "      <td>0</td>\n",
              "    </tr>\n",
              "    <tr>\n",
              "      <th>4</th>\n",
              "      <td>Great taffy at a great price.  There was a wid...</td>\n",
              "      <td>1</td>\n",
              "    </tr>\n",
              "  </tbody>\n",
              "</table>\n",
              "</div>"
            ],
            "text/plain": [
              "                                              review  sentiment\n",
              "0  I have bought several of the Vitality canned d...          1\n",
              "1  Product arrived labeled as Jumbo Salted Peanut...          0\n",
              "2  This is a confection that has been around a fe...          1\n",
              "3  If you are looking for the secret ingredient i...          0\n",
              "4  Great taffy at a great price.  There was a wid...          1"
            ]
          },
          "metadata": {
            "tags": []
          },
          "execution_count": 6
        }
      ]
    },
    {
      "cell_type": "code",
      "metadata": {
        "colab": {
          "base_uri": "https://localhost:8080/"
        },
        "id": "qIS5ksl3ynjL",
        "outputId": "6ca12ae7-3bdd-4278-d7bc-ce9190c31308"
      },
      "source": [
        "df['sentiment'].value_counts()"
      ],
      "execution_count": null,
      "outputs": [
        {
          "output_type": "execute_result",
          "data": {
            "text/plain": [
              "1    306819\n",
              "0     86856\n",
              "Name: sentiment, dtype: int64"
            ]
          },
          "metadata": {
            "tags": []
          },
          "execution_count": 7
        }
      ]
    },
    {
      "cell_type": "code",
      "metadata": {
        "id": "qsquMB8Myyec"
      },
      "source": [
        "# function to clean and pre-process the text.\n",
        "def clean_reviews(review):  \n",
        "    \n",
        "    # 1. Removing html tags\n",
        "    review_text = BeautifulSoup(review,\"lxml\").get_text()\n",
        "    \n",
        "    # 2. Retaining only alphabets.\n",
        "    review_text = re.sub(\"[^a-zA-Z]\",\" \",review_text)\n",
        "    \n",
        "    # 3. Converting to lower case and splitting\n",
        "    word_tokens= review_text.lower().split()\n",
        "    \n",
        "    # 4. Remove stopwords\n",
        "    le=WordNetLemmatizer()\n",
        "    stop_words= set(stopwords.words(\"english\"))     \n",
        "    word_tokens= [le.lemmatize(w) for w in word_tokens if not w in stop_words]\n",
        "    \n",
        "    cleaned_review=\" \".join(word_tokens)\n",
        "    return cleaned_review"
      ],
      "execution_count": null,
      "outputs": []
    },
    {
      "cell_type": "code",
      "metadata": {
        "id": "KonqHeQS08rE"
      },
      "source": [
        "# we firstly process the first 100,000 dps \n",
        "pos_df=df.loc[df.sentiment==1,:][:50000]\n",
        "neg_df=df.loc[df.sentiment==0,:][:50000]\n",
        "# combining\n",
        "df=pd.concat([pos_df,neg_df],ignore_index=True)\n",
        "# shuffling rows\n",
        "df=df.sample(frac=1).reset_index(drop=True)"
      ],
      "execution_count": null,
      "outputs": []
    },
    {
      "cell_type": "code",
      "metadata": {
        "colab": {
          "base_uri": "https://localhost:8080/",
          "height": 204
        },
        "id": "4SnzbhYVgcxN",
        "outputId": "25fe6a2c-5f9e-4157-e884-393f6c25437f"
      },
      "source": [
        "df.head()"
      ],
      "execution_count": null,
      "outputs": [
        {
          "output_type": "execute_result",
          "data": {
            "text/html": [
              "<div>\n",
              "<style scoped>\n",
              "    .dataframe tbody tr th:only-of-type {\n",
              "        vertical-align: middle;\n",
              "    }\n",
              "\n",
              "    .dataframe tbody tr th {\n",
              "        vertical-align: top;\n",
              "    }\n",
              "\n",
              "    .dataframe thead th {\n",
              "        text-align: right;\n",
              "    }\n",
              "</style>\n",
              "<table border=\"1\" class=\"dataframe\">\n",
              "  <thead>\n",
              "    <tr style=\"text-align: right;\">\n",
              "      <th></th>\n",
              "      <th>review</th>\n",
              "      <th>sentiment</th>\n",
              "    </tr>\n",
              "  </thead>\n",
              "  <tbody>\n",
              "    <tr>\n",
              "      <th>0</th>\n",
              "      <td>I love a good strong cup of coffee - my favori...</td>\n",
              "      <td>0</td>\n",
              "    </tr>\n",
              "    <tr>\n",
              "      <th>1</th>\n",
              "      <td>We have both the Sea Salt variety and the Cinn...</td>\n",
              "      <td>0</td>\n",
              "    </tr>\n",
              "    <tr>\n",
              "      <th>2</th>\n",
              "      <td>Mallomars Pure Chocolate Cookies are delicious...</td>\n",
              "      <td>1</td>\n",
              "    </tr>\n",
              "    <tr>\n",
              "      <th>3</th>\n",
              "      <td>Expensive little buggers - sixty cents for a p...</td>\n",
              "      <td>1</td>\n",
              "    </tr>\n",
              "    <tr>\n",
              "      <th>4</th>\n",
              "      <td>We had mole tunnels throughout our lawn.  We f...</td>\n",
              "      <td>0</td>\n",
              "    </tr>\n",
              "  </tbody>\n",
              "</table>\n",
              "</div>"
            ],
            "text/plain": [
              "                                              review  sentiment\n",
              "0  I love a good strong cup of coffee - my favori...          0\n",
              "1  We have both the Sea Salt variety and the Cinn...          0\n",
              "2  Mallomars Pure Chocolate Cookies are delicious...          1\n",
              "3  Expensive little buggers - sixty cents for a p...          1\n",
              "4  We had mole tunnels throughout our lawn.  We f...          0"
            ]
          },
          "metadata": {
            "tags": []
          },
          "execution_count": 14
        }
      ]
    },
    {
      "cell_type": "markdown",
      "metadata": {
        "id": "TDbo4tOgqAnB"
      },
      "source": [
        "#Creating Word Embeddings\n"
      ]
    },
    {
      "cell_type": "code",
      "metadata": {
        "colab": {
          "base_uri": "https://localhost:8080/"
        },
        "id": "jSjyRc8IaC-r",
        "outputId": "532b0a80-cfdd-417b-afab-c2938b85ea69"
      },
      "source": [
        "# Clean each sentence in each review\n",
        "tokenizer = nltk.data.load('tokenizers/punkt/english.pickle')\n",
        "sentences=[]\n",
        "sum=0\n",
        "ctr=0\n",
        "for review in df['review']:\n",
        "  sents=tokenizer.tokenize(review.strip())\n",
        "  sum+=len(sents)\n",
        "  for sent in sents:\n",
        "    cleaned_sent=clean_reviews(sent)\n",
        "    sentences.append(cleaned_sent.split()) \n",
        "print(sum)\n",
        "print(len(sentences))"
      ],
      "execution_count": null,
      "outputs": [
        {
          "output_type": "stream",
          "text": [
            "512639\n",
            "512639\n"
          ],
          "name": "stdout"
        }
      ]
    },
    {
      "cell_type": "code",
      "metadata": {
        "colab": {
          "base_uri": "https://localhost:8080/",
          "height": 204
        },
        "id": "dGeLFFQwgiRH",
        "outputId": "bd90bdfd-b848-4e4d-d280-a488610f0b38"
      },
      "source": [
        "df.head()"
      ],
      "execution_count": null,
      "outputs": [
        {
          "output_type": "execute_result",
          "data": {
            "text/html": [
              "<div>\n",
              "<style scoped>\n",
              "    .dataframe tbody tr th:only-of-type {\n",
              "        vertical-align: middle;\n",
              "    }\n",
              "\n",
              "    .dataframe tbody tr th {\n",
              "        vertical-align: top;\n",
              "    }\n",
              "\n",
              "    .dataframe thead th {\n",
              "        text-align: right;\n",
              "    }\n",
              "</style>\n",
              "<table border=\"1\" class=\"dataframe\">\n",
              "  <thead>\n",
              "    <tr style=\"text-align: right;\">\n",
              "      <th></th>\n",
              "      <th>review</th>\n",
              "      <th>sentiment</th>\n",
              "    </tr>\n",
              "  </thead>\n",
              "  <tbody>\n",
              "    <tr>\n",
              "      <th>0</th>\n",
              "      <td>I love a good strong cup of coffee - my favori...</td>\n",
              "      <td>0</td>\n",
              "    </tr>\n",
              "    <tr>\n",
              "      <th>1</th>\n",
              "      <td>We have both the Sea Salt variety and the Cinn...</td>\n",
              "      <td>0</td>\n",
              "    </tr>\n",
              "    <tr>\n",
              "      <th>2</th>\n",
              "      <td>Mallomars Pure Chocolate Cookies are delicious...</td>\n",
              "      <td>1</td>\n",
              "    </tr>\n",
              "    <tr>\n",
              "      <th>3</th>\n",
              "      <td>Expensive little buggers - sixty cents for a p...</td>\n",
              "      <td>1</td>\n",
              "    </tr>\n",
              "    <tr>\n",
              "      <th>4</th>\n",
              "      <td>We had mole tunnels throughout our lawn.  We f...</td>\n",
              "      <td>0</td>\n",
              "    </tr>\n",
              "  </tbody>\n",
              "</table>\n",
              "</div>"
            ],
            "text/plain": [
              "                                              review  sentiment\n",
              "0  I love a good strong cup of coffee - my favori...          0\n",
              "1  We have both the Sea Salt variety and the Cinn...          0\n",
              "2  Mallomars Pure Chocolate Cookies are delicious...          1\n",
              "3  Expensive little buggers - sixty cents for a p...          1\n",
              "4  We had mole tunnels throughout our lawn.  We f...          0"
            ]
          },
          "metadata": {
            "tags": []
          },
          "execution_count": 16
        }
      ]
    },
    {
      "cell_type": "code",
      "metadata": {
        "colab": {
          "base_uri": "https://localhost:8080/"
        },
        "id": "pg6Ed7Ez8SR6",
        "outputId": "096f7bdc-0f5b-4bc3-d209-537daab8af0e"
      },
      "source": [
        "# trying to print few sentences\n",
        "for te in sentences[:5]:\n",
        "  print(te,\"\\n\")"
      ],
      "execution_count": null,
      "outputs": [
        {
          "output_type": "stream",
          "text": [
            "['love', 'good', 'strong', 'cup', 'coffee', 'favorite', 'k', 'cup', 'green', 'mountain', 'double', 'black', 'diamond', 'extra', 'bold', 'try', 'extra', 'bold', 'variety', 'enjoy'] \n",
            "\n",
            "['fuhgeddabboudit', 'flavor', 'intrigued', 'pre', 'ordered', 'box', 'cup'] \n",
            "\n",
            "['took', 'month', 'arrive', 'tried', 'morning', 'first', 'people', 'talking', 'thing', 'making', 'mess', 'counter', 'kidding'] \n",
            "\n",
            "['first', 'cup', 'leaked', 'place', 'gave', 'cup', 'full', 'ground'] \n",
            "\n",
            "['almost', 'reluctant', 'try', 'another', 'one', 'something', 'like', 'good', 'keurig', 'machine', 'gave', 'shot', 'bad', 'measure', 'double', 'black', 'diamond', 'since', 'essentially', 'price', 'get', 'stuff', 'really', 'like', 'instead'] \n",
            "\n"
          ],
          "name": "stdout"
        }
      ]
    },
    {
      "cell_type": "code",
      "metadata": {
        "id": "Uc9ACRxUjQNK"
      },
      "source": [
        "# CONSTANTS\n",
        "EMBED_DIM=300\n",
        "WINDOW_DIM=10"
      ],
      "execution_count": null,
      "outputs": []
    },
    {
      "cell_type": "code",
      "metadata": {
        "colab": {
          "base_uri": "https://localhost:8080/"
        },
        "id": "1WCtCYpO8n7l",
        "outputId": "2af528be-e271-4eba-e7d1-b132db50c97d"
      },
      "source": [
        "w2v_model=gensim.models.Word2Vec(sentences=sentences,size=EMBED_DIM,window=WINDOW_DIM,min_count=1)\n",
        "w2v_model.train(sentences,epochs=10,total_examples=len(sentences))"
      ],
      "execution_count": null,
      "outputs": [
        {
          "output_type": "execute_result",
          "data": {
            "text/plain": [
              "(38406585, 41193730)"
            ]
          },
          "metadata": {
            "tags": []
          },
          "execution_count": 14
        }
      ]
    },
    {
      "cell_type": "code",
      "metadata": {
        "colab": {
          "base_uri": "https://localhost:8080/"
        },
        "id": "FndxI3p1-VTu",
        "outputId": "f25be446-b45b-41f3-98e0-fc8d73dc9d07"
      },
      "source": [
        "# Test gensim\n",
        "w2v_model.wv.get_vector('good') # Vector representation of like\n",
        "print(w2v_model.wv.similarity('good','bad')) # Similarity between two words\n",
        "pprint(w2v_model.wv.most_similar('good')) # Most similar to like"
      ],
      "execution_count": null,
      "outputs": [
        {
          "output_type": "stream",
          "text": [
            "0.44969347\n",
            "[('great', 0.6149164438247681),\n",
            " ('decent', 0.5796770453453064),\n",
            " ('excellent', 0.4697027802467346),\n",
            " ('awesome', 0.46249526739120483),\n",
            " ('terrific', 0.46213456988334656),\n",
            " ('fantastic', 0.4605638384819031),\n",
            " ('bad', 0.4496934413909912),\n",
            " ('exceptional', 0.4280919134616852),\n",
            " ('better', 0.4265482723712921),\n",
            " ('nice', 0.40190720558166504)]\n"
          ],
          "name": "stdout"
        }
      ]
    },
    {
      "cell_type": "code",
      "metadata": {
        "id": "ZUgoA8--Y6xR"
      },
      "source": [
        "# Creating dictionary of words to embeddings\n",
        "vocab=w2v_model.wv.vocab\n",
        "word_to_vec_dict={}\n",
        "for word in vocab:\n",
        "  word_to_vec_dict[word]=w2v_model.wv.get_vector(word)"
      ],
      "execution_count": null,
      "outputs": []
    },
    {
      "cell_type": "code",
      "metadata": {
        "colab": {
          "base_uri": "https://localhost:8080/"
        },
        "id": "GFQHrDZmb13J",
        "outputId": "2dae954d-4378-4cd4-fc80-5859bf6d0c80"
      },
      "source": [
        "# Print 5 element of dictionary\n",
        "print({k: word_to_vec_dict[k] for k in list(word_to_vec_dict)[:5]})"
      ],
      "execution_count": null,
      "outputs": [
        {
          "output_type": "stream",
          "text": [
            "{'bought': array([-7.09572673e-01, -1.01258886e+00,  6.42910421e-01, -1.90806532e+00,\n",
            "        8.20335746e-01,  1.81134725e+00, -6.03953242e-01, -4.50442821e-01,\n",
            "        6.66367769e-01,  3.97452354e-01, -9.96851206e-01, -4.60490264e-04,\n",
            "       -1.82739091e+00,  9.70169365e-01, -6.06805265e-01, -2.28018329e-01,\n",
            "       -6.09576702e-02, -9.90471914e-02, -1.13279343e+00, -5.41511178e-01,\n",
            "       -7.10484803e-01,  5.76254606e-01,  3.67624462e-01,  6.82765424e-01,\n",
            "       -1.75963819e-01,  5.55677056e-01,  1.75844967e-01, -1.83854675e+00,\n",
            "       -2.00102538e-01,  2.46518850e+00, -6.46217108e-01,  1.68946934e+00,\n",
            "       -6.18092775e-01,  5.62025197e-02, -1.42154515e+00, -4.74701047e-01,\n",
            "       -1.13164783e-01, -1.54443709e-02, -2.94415236e-01,  2.26822901e+00,\n",
            "        4.34074402e-01, -1.72396731e+00, -1.70084274e+00, -7.81669933e-03,\n",
            "       -1.81053668e-01,  1.77598155e+00,  6.16315365e-01,  1.81372285e+00,\n",
            "       -1.58315015e+00,  1.96832073e+00,  1.46473610e+00, -8.80130291e-01,\n",
            "       -7.82234907e-01, -7.48103797e-01, -9.69162881e-01, -1.20196950e+00,\n",
            "       -2.47929141e-01,  9.01544869e-01,  7.13034511e-01,  1.36499429e+00,\n",
            "       -3.00420791e-01,  1.00950849e+00, -2.43572760e+00,  7.15398133e-01,\n",
            "       -3.63988340e-01,  5.86225271e-01,  1.28039038e+00, -3.32757831e-01,\n",
            "       -1.22890651e+00, -1.29907322e+00,  8.45496893e-01,  1.53932297e+00,\n",
            "       -1.44173265e+00,  6.52497172e-01, -7.45989859e-01,  6.05163515e-01,\n",
            "       -3.56546491e-01,  1.67534029e+00, -2.93553352e+00,  4.73778278e-01,\n",
            "       -1.49480984e-01,  6.66902721e-01,  1.19107413e+00, -7.61646926e-01,\n",
            "        5.22166610e-01, -1.39125630e-01,  6.96559489e-01, -9.04893458e-01,\n",
            "       -8.91620815e-01,  2.53655642e-01, -5.70983812e-03,  1.09488046e+00,\n",
            "        9.11969543e-01,  1.28000712e+00, -2.69098043e-01,  1.47014570e+00,\n",
            "        2.33423188e-01, -2.35906339e+00,  1.01261258e+00, -1.50857776e-01,\n",
            "       -5.84567264e-02, -1.60332072e+00,  1.18056870e+00, -1.19799852e+00,\n",
            "       -3.89526218e-01, -7.70644307e-01, -4.74889845e-01,  4.30122286e-01,\n",
            "       -3.88562977e-02,  1.93662226e+00, -1.51702762e+00, -1.20598459e+00,\n",
            "       -2.83617282e+00, -8.71675789e-01,  6.10264122e-01, -1.91628456e-01,\n",
            "       -9.36735690e-01,  1.36434567e+00,  8.85209084e-01, -4.20340925e-01,\n",
            "        1.16952193e+00, -5.81140161e-01, -3.65285814e-01,  4.02090222e-01,\n",
            "       -2.42003217e-01,  1.35511601e+00,  7.45493099e-02,  2.82863021e-01,\n",
            "       -5.49856603e-01,  1.09077588e-01, -1.96062952e-01, -7.14093268e-01,\n",
            "       -1.82179189e+00,  1.43010795e+00,  7.71350503e-01,  6.01216495e-01,\n",
            "       -1.74414384e+00,  7.69930482e-01, -1.53851044e+00, -1.75964630e+00,\n",
            "       -7.66598046e-01, -2.20260739e+00, -4.91511822e-01, -1.71337235e+00,\n",
            "        6.20491505e-01, -1.61433780e+00, -1.51114082e+00,  7.53628314e-02,\n",
            "       -6.36321485e-01, -1.02124894e+00,  1.38342249e+00, -4.02185112e-01,\n",
            "        2.36707187e+00, -2.04824948e+00, -1.99578270e-01,  2.45138213e-01,\n",
            "       -2.21369553e+00, -7.58693159e-01,  8.80206823e-01, -1.50938320e+00,\n",
            "       -2.59786934e-01,  1.70680511e+00,  1.53926402e-01, -1.50174156e-01,\n",
            "        1.99404335e+00,  3.04451883e-01, -5.11907935e-01,  3.54607292e-02,\n",
            "        1.62691438e+00,  2.01518685e-01,  3.73301566e-01,  5.53439856e-01,\n",
            "       -1.80242789e+00,  1.17302668e+00, -2.03684762e-01,  3.59240860e-01,\n",
            "        2.63789535e+00, -1.05875897e+00,  8.38550329e-01,  7.13981032e-01,\n",
            "       -6.84646368e-02, -3.71654600e-01,  3.55609626e-01,  6.80293620e-01,\n",
            "       -1.21187794e+00,  1.52556133e+00, -2.93367356e-01,  3.11413836e-02,\n",
            "       -4.09091234e-01,  3.99695665e-01, -6.65910423e-01, -8.54403973e-01,\n",
            "       -1.03319931e+00, -7.52502233e-02, -6.15010977e-01, -3.46822917e-01,\n",
            "        7.79355228e-01,  9.22428846e-01, -5.81929944e-02, -1.93718195e+00,\n",
            "        9.89833832e-01,  8.76187265e-01,  3.00051117e+00,  3.48994911e-01,\n",
            "       -2.11225659e-01,  2.75611341e-01,  1.56901821e-01,  2.25457263e+00,\n",
            "       -1.55353141e+00,  1.46908081e+00, -2.40057921e+00, -6.35109365e-01,\n",
            "       -3.00518960e-01,  1.14267480e+00,  1.61043239e+00, -9.15243104e-02,\n",
            "       -5.37046611e-01,  3.38406324e-01,  8.67656350e-01,  3.52613896e-01,\n",
            "       -1.59591150e+00,  2.07060885e+00,  8.90471518e-01,  5.88836014e-01,\n",
            "        1.88992396e-01, -5.38977921e-01, -8.96764517e-01, -6.88244343e-01,\n",
            "       -4.93665576e-01, -2.99627393e-01,  2.49122334e+00,  1.51679981e+00,\n",
            "       -1.54188201e-01, -1.53774619e+00, -7.16443479e-01,  2.98508358e+00,\n",
            "       -2.08108246e-01,  1.33427009e-01,  7.09037125e-01, -8.77207220e-01,\n",
            "        9.43921566e-01, -2.50520170e-01,  1.14786041e+00, -5.59744798e-02,\n",
            "       -3.79817277e-01, -1.37949657e+00,  4.12370443e-01,  2.71209747e-01,\n",
            "       -1.02862656e+00,  2.48052096e+00, -6.91330194e-01, -2.43750796e-01,\n",
            "       -1.37415791e+00,  1.04156661e+00, -2.73566413e+00,  2.92292953e+00,\n",
            "       -4.62493092e-01, -1.57920957e+00,  1.88492820e-01,  1.45680213e+00,\n",
            "        1.78121209e+00, -1.76420689e+00,  2.53025961e+00, -1.72714829e-01,\n",
            "       -1.22411358e+00,  8.81426871e-01, -7.34996125e-02, -6.10464334e-01,\n",
            "       -2.66927153e-01,  1.80384445e+00,  6.73138320e-01,  2.86717713e-01,\n",
            "       -2.75275254e+00,  1.58087921e+00,  9.70842183e-01, -1.17736685e+00,\n",
            "       -1.00432575e-01, -6.07542753e-01, -2.08576250e+00, -3.98805827e-01,\n",
            "       -6.40313983e-01,  2.23316550e-01, -7.24359334e-01,  1.53086573e-01,\n",
            "       -1.00359070e+00, -1.49828911e+00,  4.42376584e-01,  1.95717916e-01,\n",
            "        1.22874641e+00,  5.06477198e-03,  1.51275337e-01, -1.72522366e+00,\n",
            "       -1.96731353e+00,  1.99310303e-01,  1.18593729e+00, -1.51183510e+00,\n",
            "        6.40088618e-02, -5.30042648e-01,  1.84546244e+00, -1.86633512e-01],\n",
            "      dtype=float32), 'wish': array([ 0.37444347, -0.68996006, -0.70558035, -0.5104702 , -0.97408444,\n",
            "       -0.66916925, -0.26366156,  1.0448283 ,  0.37738687, -2.2823281 ,\n",
            "        0.9494037 , -1.1650366 ,  0.4357236 ,  0.5081422 , -1.6245483 ,\n",
            "        0.8061723 ,  0.24859598,  1.1127822 ,  0.86358565, -1.071426  ,\n",
            "       -0.7362085 ,  0.84935486,  0.60500443,  0.6597659 , -0.49578953,\n",
            "        0.26093656, -0.73511004,  0.54216796, -0.05095016,  0.9007919 ,\n",
            "        0.97673297, -1.0070106 ,  1.8229584 , -3.6539993 ,  1.3102912 ,\n",
            "       -0.6384362 ,  0.8598542 ,  1.5808307 , -0.78418034, -0.51848066,\n",
            "       -0.09395911,  1.5872133 ,  0.27695176,  0.08073056, -0.5210064 ,\n",
            "        1.9165783 ,  0.5520017 , -1.6278328 ,  0.5185277 ,  0.20050396,\n",
            "        0.34923965, -2.4702682 , -1.037273  ,  0.14860283,  1.4779007 ,\n",
            "       -1.294954  , -1.560187  , -0.1318043 ,  1.001911  ,  1.1540084 ,\n",
            "       -0.33992   ,  0.94197166,  3.004074  , -0.46707737,  0.18220171,\n",
            "       -0.78823274, -0.08955502,  1.637747  ,  1.191738  , -0.34071445,\n",
            "       -0.72349477,  0.5269831 , -0.15368488,  1.3496587 , -0.98030686,\n",
            "       -0.71425426,  0.71807975,  0.8699757 ,  0.24723111,  1.2732844 ,\n",
            "       -0.72769463,  0.1867401 ,  1.3610092 ,  1.2601453 ,  2.100498  ,\n",
            "        0.67533505, -0.0052152 , -1.4996817 ,  0.72512585,  0.17710415,\n",
            "       -1.1304713 ,  1.6928554 ,  0.7403119 ,  1.0599191 ,  2.616551  ,\n",
            "        0.8743754 , -0.89169824, -0.94806975,  1.3275974 , -0.09705319,\n",
            "       -1.3145744 ,  0.8800625 ,  0.32564616,  0.49297222,  1.1669734 ,\n",
            "        0.18977854, -0.9340808 ,  0.59438986, -0.21460713,  0.98097557,\n",
            "        0.16564658, -1.700645  , -1.4569733 , -1.2744179 ,  0.9303456 ,\n",
            "       -0.2061311 ,  0.79249674,  0.25933963,  0.27957645,  1.3623319 ,\n",
            "       -0.3520164 , -0.46795946,  0.8040422 ,  1.0489444 ,  1.2283797 ,\n",
            "        1.2318226 ,  0.17379801, -0.46162245, -0.93692565, -0.44179067,\n",
            "        0.563707  , -0.02540511,  0.4309701 ,  0.36423233,  0.56852704,\n",
            "        0.5056548 ,  0.84657365, -0.16051899, -0.22652876, -2.021922  ,\n",
            "        0.09044769,  0.2564411 ,  0.41183475,  0.94663024, -0.03617301,\n",
            "        0.12879822,  0.4958508 ,  2.3284829 ,  2.472844  , -0.98213154,\n",
            "        1.5525029 , -0.23237133,  0.27744868, -1.686975  , -0.82879585,\n",
            "        1.0729942 , -0.05255527, -0.36194405,  1.151996  , -2.2233045 ,\n",
            "       -0.48415762,  0.92074037, -0.2207529 , -0.33697465,  1.3728979 ,\n",
            "        0.1521541 , -0.2958557 ,  0.18721892, -1.6666665 , -1.4907715 ,\n",
            "        1.2017182 , -2.5331573 , -0.82254004, -1.860283  ,  1.3079193 ,\n",
            "        0.65533704, -0.28987926, -0.8529101 ,  1.4901948 ,  0.6067843 ,\n",
            "       -0.9039589 ,  0.13250087, -1.8527563 , -1.8436421 ,  1.3165337 ,\n",
            "        0.8115656 , -0.03093866, -0.9251691 ,  1.9478172 ,  0.26192665,\n",
            "       -1.1505657 ,  0.46858707, -0.24222462, -0.4646518 ,  0.32973757,\n",
            "        1.0961989 , -0.5862441 ,  2.3100092 ,  1.2472701 , -0.03062364,\n",
            "       -0.9696002 , -1.030098  ,  0.5764206 , -0.6199071 ,  0.17765266,\n",
            "       -0.10450576,  0.29375625,  1.6894295 , -2.21495   , -0.5494391 ,\n",
            "        0.9892794 , -0.24305008,  0.9336935 ,  1.0518603 ,  0.5792568 ,\n",
            "       -0.10383181,  0.56836736,  1.2507148 ,  1.0276669 , -1.3745289 ,\n",
            "       -0.37675568, -1.1313231 ,  0.15347081,  0.3357167 , -0.2484293 ,\n",
            "       -0.23517223,  0.32166842, -0.57150584, -1.548083  , -0.38970158,\n",
            "       -0.12965128,  0.9455943 , -1.621623  ,  0.18670823,  2.2164783 ,\n",
            "       -0.5281551 ,  0.11822601, -1.7560433 , -1.5926529 , -1.1848856 ,\n",
            "        0.64525974, -0.1421746 , -1.0716367 , -0.49479502, -0.66283053,\n",
            "       -1.2073747 ,  0.3886043 ,  0.08645539,  0.24557562,  0.61202765,\n",
            "       -1.4221479 ,  0.44222254,  2.6040726 ,  1.3102149 , -0.11949898,\n",
            "       -0.7038678 ,  0.8764998 , -1.0059474 , -0.1619386 ,  0.32363874,\n",
            "       -1.886062  ,  2.0104926 ,  0.92263144, -0.00921865,  0.07093449,\n",
            "       -1.3063638 , -0.3785482 , -1.8303136 , -1.9646968 , -0.8812504 ,\n",
            "       -0.16222325, -0.8941108 , -0.03025893, -0.00869641, -0.8797308 ,\n",
            "       -1.3814123 ,  1.5350442 ,  0.6665654 ,  1.1359795 ,  1.0288353 ,\n",
            "       -0.4951222 , -0.8433225 , -0.7444934 ,  0.04015708, -1.3039582 ,\n",
            "        0.19008692, -0.52107406,  1.2575039 , -0.59208876,  1.9992306 ,\n",
            "        0.3805208 , -1.58192   ,  0.65671635,  1.6094983 , -1.5216265 ,\n",
            "        0.6557192 ,  0.29820952,  2.1528852 , -1.145835  , -0.76328254],\n",
            "      dtype=float32), 'pearl': array([-3.92588258e-01,  3.43793333e-01,  1.23899508e+00,  3.01868856e-01,\n",
            "       -3.91489714e-01,  5.33996403e-01, -6.00201607e-01, -1.63168502e+00,\n",
            "        1.09711528e+00, -5.56888938e-01,  4.48510557e-01, -3.67326200e-01,\n",
            "        6.52413443e-02,  9.45713878e-01,  3.13553005e-01, -3.92206162e-01,\n",
            "       -1.16134621e-01, -4.95126665e-01, -1.13065049e-01, -2.95739830e-01,\n",
            "        1.75563127e-01,  1.18707430e+00, -8.07079792e-01, -7.38870084e-01,\n",
            "        9.86311018e-01, -7.49570429e-01,  6.20689802e-02,  4.69074547e-01,\n",
            "       -1.69925302e-01,  4.30037737e-01,  1.64145720e+00, -4.04270798e-01,\n",
            "       -1.46091998e+00,  8.03434551e-01,  2.71843880e-01,  7.72722900e-01,\n",
            "        1.48232973e+00,  4.49335635e-01, -9.85990912e-02,  4.58627976e-02,\n",
            "       -3.91048014e-01, -1.03762984e-01, -1.02046347e+00, -2.56113648e-01,\n",
            "       -1.11130679e+00, -9.51990113e-02, -6.32031679e-01,  1.02570486e+00,\n",
            "       -7.85883427e-01,  1.86127171e-01,  6.25344157e-01, -4.75653678e-01,\n",
            "        5.03705680e-01,  1.23636949e+00,  1.19437826e+00, -1.00427889e-03,\n",
            "        2.05063313e-01, -1.17598534e-01,  8.57272297e-02,  2.28263330e+00,\n",
            "       -6.23316646e-01, -2.97427535e-01,  4.62783426e-01, -1.33399236e+00,\n",
            "        9.54776525e-01, -5.11195719e-01,  1.13892365e+00, -1.32658374e+00,\n",
            "        3.58557463e-01,  1.90331832e-01,  1.33646739e+00,  1.13820314e+00,\n",
            "        6.61165476e-01,  1.61251485e+00,  1.14125431e+00, -5.58177114e-01,\n",
            "        9.35537577e-01,  5.73965088e-02,  1.85007736e-01,  1.30835629e+00,\n",
            "       -6.28165185e-01, -2.75914043e-01, -1.87756978e-02, -2.23953277e-01,\n",
            "       -1.39681273e-03, -2.07400158e-01, -6.76037073e-01, -5.56677759e-01,\n",
            "       -8.29284906e-01, -3.97316545e-01, -9.58164409e-02,  6.05945349e-01,\n",
            "        1.04561830e+00, -1.29986942e+00,  5.31700909e-01,  5.70347846e-01,\n",
            "        9.88617063e-01,  2.04403102e-02, -1.36821246e+00,  3.95355940e-01,\n",
            "       -1.10031021e+00, -1.80567682e+00, -8.62883985e-01, -4.52912569e-01,\n",
            "       -8.59799802e-01, -3.30962799e-02,  9.95445907e-01, -7.72783637e-01,\n",
            "        1.13652956e+00,  9.71441031e-01, -9.47131872e-01,  4.51972991e-01,\n",
            "       -1.46211231e+00,  1.77447900e-01,  5.30326128e-01, -1.53606534e+00,\n",
            "        5.58995247e-01, -3.23643774e-01,  8.34910393e-01, -1.46422118e-01,\n",
            "       -6.45903230e-01,  8.38178456e-01,  4.97122370e-02, -1.32127196e-01,\n",
            "        5.55410206e-01, -3.14633250e-01,  1.32868505e+00,  9.15472567e-01,\n",
            "       -1.37435794e+00,  3.92004400e-01, -1.02046144e+00,  4.68841046e-01,\n",
            "        3.62345338e-01,  2.04594183e+00, -9.03894544e-01, -2.16131359e-01,\n",
            "        3.33219111e-01, -4.60675269e-01, -7.78860509e-01, -8.82829666e-01,\n",
            "        1.17632639e+00,  3.20892185e-02, -7.25363344e-02,  1.25254378e-01,\n",
            "       -9.00387645e-01,  5.03542244e-01, -3.35089535e-01,  7.15086043e-01,\n",
            "       -5.97244740e-01, -1.22277416e-01,  7.85819173e-01, -9.76632237e-01,\n",
            "        5.35315573e-01, -1.00737369e+00, -1.33173084e+00,  5.45445502e-01,\n",
            "        6.29421294e-01, -7.82458559e-02, -2.65382051e-01,  1.19676292e+00,\n",
            "       -1.03389430e+00, -5.13726234e-01,  1.25460184e+00, -5.59804738e-02,\n",
            "       -4.23909038e-01, -5.06191730e-01,  1.18488193e+00, -7.25233316e-01,\n",
            "        5.32300413e-01, -6.92807972e-01,  7.43678063e-02,  8.81790221e-02,\n",
            "        2.44076494e-02, -3.63666452e-02, -8.53289425e-01, -1.40552127e+00,\n",
            "        6.83413744e-02, -1.54794860e+00,  8.89113128e-01,  1.21129668e+00,\n",
            "        5.59318900e-01,  3.19949716e-01, -1.69939488e-01,  5.22792041e-01,\n",
            "       -3.92110467e-01, -1.37633920e+00,  1.71252847e-01,  3.17930549e-01,\n",
            "       -6.62143111e-01,  1.64026722e-01, -1.29247773e+00, -1.10868597e+00,\n",
            "       -9.42799568e-01,  2.35805407e-01, -6.94176972e-01, -7.04827309e-01,\n",
            "       -2.08465889e-01,  1.54326305e-01,  6.11749709e-01, -1.24339485e+00,\n",
            "       -1.00346100e+00,  1.02199085e-01,  3.50032777e-01,  1.12249732e+00,\n",
            "       -4.36306715e-01,  4.61827368e-01, -5.57870150e-01, -7.01067507e-01,\n",
            "        1.09076250e+00,  6.24094784e-01,  9.19514000e-01, -2.91728556e-01,\n",
            "       -4.20239329e-01, -9.11589622e-01,  1.58506191e+00, -1.23106194e+00,\n",
            "        6.59822941e-01, -1.02055989e-01, -6.70905411e-01,  1.71073288e-01,\n",
            "       -8.13595727e-02,  2.48849586e-01,  3.82358789e-01, -6.93206370e-01,\n",
            "        7.03116894e-01,  8.28723967e-01, -2.18209818e-01,  8.62179220e-01,\n",
            "        1.70587618e-02, -6.88217461e-01, -6.55064464e-01, -6.36556268e-01,\n",
            "       -1.08060610e+00,  8.45323682e-01, -1.17095470e-01,  1.81063991e-02,\n",
            "       -1.02206266e+00, -3.61924618e-01, -7.85838161e-03,  4.07160968e-01,\n",
            "        5.45748591e-01,  3.67207915e-01,  3.09999228e-01,  6.48883879e-01,\n",
            "       -2.30193838e-01,  6.87892675e-01,  9.41922426e-01,  5.50811887e-01,\n",
            "        2.43077829e-01,  1.84409332e+00, -2.92553574e-01, -8.66866529e-01,\n",
            "        2.52322465e-01,  5.34097493e-01,  7.86214232e-01, -2.11527869e-01,\n",
            "        5.25746793e-02,  6.28776371e-01,  1.32608020e+00, -2.87375510e-01,\n",
            "       -4.51930374e-01, -5.44147253e-01,  1.21209764e+00,  1.46548927e+00,\n",
            "        1.27041385e-01, -1.93234634e+00, -3.97828966e-01,  6.31802142e-01,\n",
            "       -1.06693196e+00,  1.42467237e+00, -4.13121700e-01,  5.69614828e-01,\n",
            "        5.85040689e-01, -1.48553038e+00, -3.29393417e-01,  3.85909639e-02,\n",
            "       -6.50769830e-01, -2.41880156e-02,  1.83004692e-01, -1.50062716e+00,\n",
            "       -1.30637789e+00, -2.21923202e-01,  6.31994903e-01,  7.44004667e-01,\n",
            "        1.63067472e+00,  4.27629411e-01,  5.71994007e-01, -2.43231475e-01,\n",
            "        1.99203169e+00,  7.08291173e-01,  6.89443827e-01,  8.22257817e-01,\n",
            "        2.34436297e+00,  6.87021136e-01,  5.56453347e-01, -2.28927732e+00,\n",
            "       -1.43163633e+00,  5.67742229e-01, -4.92778897e-01,  1.68929935e+00],\n",
            "      dtype=float32), 'today': array([ 5.31386817e-04,  2.02271104e+00, -1.41961789e+00, -7.37220883e-01,\n",
            "        7.44775534e-01, -6.08517885e-01, -8.28866124e-01,  1.51435339e+00,\n",
            "       -9.75634634e-01, -7.73110092e-01,  1.22970200e+00,  2.24890962e-01,\n",
            "       -3.59146982e-01,  7.37745881e-01, -8.90373170e-01, -1.56221196e-01,\n",
            "       -1.92044348e-01,  6.96396008e-02,  1.14326680e+00,  1.33460447e-01,\n",
            "        1.30809486e-01,  3.26710254e-01,  7.13946745e-02,  2.00691342e-01,\n",
            "        7.45133221e-01,  4.05662023e-02,  5.78598797e-01, -2.13222814e+00,\n",
            "       -4.47926112e-02,  5.96030176e-01,  8.27947080e-01, -5.83377481e-01,\n",
            "        1.08413815e+00,  1.12085152e+00, -2.16090947e-01,  3.42796832e-01,\n",
            "        2.01186374e-01, -1.27762806e+00,  4.28245455e-01,  3.06513637e-01,\n",
            "        1.18043661e+00,  4.01436120e-01, -2.01475263e-01,  1.21639743e-01,\n",
            "       -1.25282037e+00,  7.73331940e-01, -1.21885169e+00, -6.33350015e-01,\n",
            "        3.60412300e-01, -4.94227260e-01, -5.49955294e-02,  7.57730976e-02,\n",
            "       -2.45376483e-01, -5.91060221e-02,  1.58599043e+00,  5.17107904e-01,\n",
            "        3.68148863e-01,  9.31578219e-01, -1.51629984e-01, -2.81325698e-01,\n",
            "       -7.71600962e-01,  7.83053458e-01, -4.70679492e-01,  2.53116995e-01,\n",
            "       -9.77929831e-01, -1.79172352e-01, -4.57850546e-02, -1.12961304e+00,\n",
            "       -1.35162258e+00, -7.88564026e-01, -2.84254290e-02, -8.05540681e-01,\n",
            "        7.12885857e-01, -1.21083963e+00, -1.39183104e-01,  4.64337468e-01,\n",
            "        4.97032672e-01,  1.57959998e+00, -1.69349277e+00, -2.29422048e-01,\n",
            "        3.10388535e-01,  1.46030533e+00, -3.57003480e-01, -1.26162624e+00,\n",
            "        1.02709579e+00,  1.97418407e-01,  1.30023792e-01,  2.29607493e-01,\n",
            "        1.14816344e+00,  1.08357228e-01, -8.00515056e-01,  7.87039399e-01,\n",
            "        8.62750947e-01,  5.43386996e-01, -1.56043541e+00,  8.56273174e-01,\n",
            "        2.07457259e-01, -8.09950292e-01, -1.98604509e-01,  1.09518838e+00,\n",
            "        5.72329521e-01, -2.12701589e-01, -4.77102816e-01, -1.62132606e-01,\n",
            "       -1.01051860e-01,  1.17111659e+00,  4.28188324e-01, -7.71255016e-01,\n",
            "       -7.92095840e-01, -1.01635136e-01, -1.86950338e+00, -4.22402501e-01,\n",
            "       -1.38618696e+00, -9.12328511e-02,  6.63529873e-01, -1.38759661e+00,\n",
            "        7.03187361e-02,  6.37914121e-01,  2.75407076e-01, -5.78655541e-01,\n",
            "       -1.16340578e+00,  8.16419899e-01,  6.30829390e-03,  6.81789890e-02,\n",
            "       -5.07231712e-01,  3.71183574e-01,  7.29783356e-01,  2.06742417e-02,\n",
            "       -1.13860345e+00, -6.42275035e-01, -5.95802486e-01,  9.74382877e-01,\n",
            "       -5.54383755e-01, -1.22758770e+00, -1.21370542e+00,  1.01737058e+00,\n",
            "       -3.42608899e-01, -7.01159716e-01,  3.66932452e-01, -8.68288219e-01,\n",
            "        2.79894501e-01,  8.06973338e-01, -6.31400645e-01, -9.45188284e-01,\n",
            "       -1.09926963e+00, -4.46646869e-01,  7.86879778e-01,  1.38175619e+00,\n",
            "       -1.70237303e-01,  4.96147931e-01,  1.32726645e+00,  4.52559829e-01,\n",
            "        4.20583874e-01,  1.63033724e+00,  1.11806542e-01, -1.18881726e+00,\n",
            "        4.70834464e-01, -3.56625527e-01, -1.41464591e+00,  1.07542729e+00,\n",
            "        3.14095706e-01,  3.72841835e-01,  4.14249063e-01,  1.20549691e+00,\n",
            "        1.19468641e+00, -1.08395100e+00,  9.16374803e-01,  8.03055823e-01,\n",
            "        1.00996816e+00, -9.20678824e-02,  4.24233317e-01,  1.00208747e+00,\n",
            "        3.08293253e-01, -7.90642858e-01,  1.08915472e+00,  5.79386763e-02,\n",
            "        9.04680371e-01, -8.56809855e-01, -8.95908713e-01, -3.35749000e-01,\n",
            "       -6.20513558e-01,  8.90894532e-01,  1.39279413e+00,  1.29968897e-01,\n",
            "       -5.85168660e-01,  5.29813945e-01, -1.00371313e+00,  1.05513021e-01,\n",
            "       -7.39125982e-02, -9.09815609e-01,  2.06296659e+00,  1.10842276e+00,\n",
            "       -1.32097864e+00, -6.50953531e-01, -1.30203450e+00,  4.77655560e-01,\n",
            "        1.42077819e-01, -4.12169397e-01,  5.19667268e-01, -1.41952491e+00,\n",
            "       -4.81597960e-01, -3.81224334e-01, -1.00488853e+00,  1.74280509e-01,\n",
            "       -5.07755876e-01, -7.28503108e-01,  5.39499640e-01, -5.34123957e-01,\n",
            "       -1.75084698e+00,  7.60056913e-01,  1.12778080e+00,  3.47641528e-01,\n",
            "        1.41106164e+00,  4.76081185e-02,  4.40062076e-01, -7.00612903e-01,\n",
            "       -3.61877322e-01,  8.32683817e-02, -1.25291899e-01,  1.12135267e+00,\n",
            "       -6.25543356e-01,  6.18552804e-01,  6.43354803e-02,  3.86862308e-01,\n",
            "        1.78916705e+00,  5.42120874e-01,  6.25403166e-01,  1.11431062e+00,\n",
            "       -7.34264791e-01,  1.71919242e-01, -1.38102859e-01,  2.06620312e+00,\n",
            "       -9.71861184e-01, -1.23807453e-01,  5.27423263e-01,  1.92241526e+00,\n",
            "        3.92773718e-01,  6.80505753e-01, -2.77288496e-01,  6.64097428e-01,\n",
            "        6.00601509e-02,  9.14268017e-01,  2.23027498e-01, -5.48532724e-01,\n",
            "       -1.17871493e-01, -1.37579393e+00,  1.32951641e+00, -2.70653248e-01,\n",
            "       -2.41270080e-01,  3.05066913e-01,  4.18321081e-02,  1.12602282e+00,\n",
            "       -6.99512064e-01,  8.66232157e-01, -1.92963541e-01, -3.93556893e-01,\n",
            "       -4.66778576e-02,  8.34032059e-01,  1.74723065e+00,  8.00576508e-01,\n",
            "       -4.10828322e-01, -7.09787309e-01,  5.69490552e-01,  6.05862439e-01,\n",
            "        1.04152286e+00,  5.93121231e-01, -8.80731404e-01,  1.06254101e+00,\n",
            "       -7.44329929e-01, -1.45179772e+00,  1.05449939e+00,  1.06609964e+00,\n",
            "       -2.71545410e-01,  3.15477885e-02, -2.47334227e-01, -2.94148445e-01,\n",
            "       -5.67159176e-01, -9.54678714e-01, -6.11507475e-01, -6.31532490e-01,\n",
            "       -5.24310172e-01,  9.14103985e-01, -1.36048281e+00,  1.55852690e-01,\n",
            "        3.26111555e-01,  1.71088919e-01, -6.94621861e-01, -1.63514996e+00,\n",
            "        1.36505032e+00, -3.61772142e-02, -2.03350973e+00,  4.20561731e-01,\n",
            "       -4.94172573e-01, -3.72437865e-01, -1.87845811e-01, -6.47492945e-01,\n",
            "       -4.09518331e-01, -7.95295715e-01,  1.06822264e+00,  1.93463434e-02],\n",
            "      dtype=float32), 'told': array([ 8.59020799e-02, -6.39769435e-01, -9.51858044e-01, -1.11885893e+00,\n",
            "        1.41849324e-01, -1.53044999e+00, -2.52613753e-01,  8.06908727e-01,\n",
            "        1.96843624e-01, -1.52351141e+00,  6.38440669e-01,  2.66862847e-02,\n",
            "       -4.35980052e-01,  6.54484332e-01,  1.20860092e-01, -9.33475852e-01,\n",
            "       -1.55651069e+00,  1.83168268e+00,  9.38170373e-01, -5.18663466e-01,\n",
            "        5.09051025e-01,  1.82172842e-02, -9.32256162e-01,  6.18866920e-01,\n",
            "        9.57591772e-01,  8.62790167e-01,  5.08324206e-01, -1.35879576e+00,\n",
            "        4.83592391e-01,  6.61556542e-01,  8.79214823e-01,  4.61735457e-01,\n",
            "       -5.06462574e-01, -8.95686686e-01, -4.55757767e-01, -1.08245663e-01,\n",
            "        3.82871360e-01,  1.64619136e+00, -1.58563733e-01, -3.30205649e-01,\n",
            "       -1.86664835e-01,  4.23869908e-01, -1.37923837e+00,  1.29455566e-01,\n",
            "       -2.40639448e+00,  2.13489026e-01,  9.38722968e-01, -8.60080183e-01,\n",
            "       -2.80372445e-02,  1.26611495e+00,  1.99405563e+00,  2.21655354e-01,\n",
            "       -2.05889538e-01,  6.10519528e-01,  1.14908445e+00, -1.26239145e+00,\n",
            "       -1.79183602e-01,  1.71863839e-01,  3.79234761e-01, -2.84184605e-01,\n",
            "       -3.44762534e-01,  1.30832464e-01, -8.75800371e-01, -3.06995392e-01,\n",
            "       -7.45486796e-01, -6.45070910e-01,  3.57607782e-01, -1.14514351e+00,\n",
            "        3.08738559e-01,  7.68556237e-01, -1.96660191e-01,  1.03612077e+00,\n",
            "        6.15143418e-01, -1.60006857e+00,  4.39235270e-01, -4.01255667e-01,\n",
            "        1.01115870e+00,  1.73249197e+00,  7.87821352e-01, -5.51138222e-01,\n",
            "       -1.19192505e+00,  1.94189417e+00,  5.54627955e-01,  7.52424479e-01,\n",
            "       -3.34868938e-01,  2.83599108e-01, -6.05817616e-01,  1.06313061e-02,\n",
            "       -9.37486470e-01,  1.11876214e+00,  9.20498297e-02, -9.46708262e-01,\n",
            "        9.37499523e-01,  2.20811054e-01,  1.46004930e-01,  9.60333586e-01,\n",
            "       -8.40941608e-01,  3.22840601e-01, -7.78055564e-02, -1.54018134e-01,\n",
            "       -6.44848406e-01,  1.70376837e-01,  3.81926984e-01, -1.98393154e+00,\n",
            "       -1.46729994e+00,  8.96132946e-01, -2.53648050e-02, -1.15731037e+00,\n",
            "        7.41902292e-01, -1.89910546e-01,  6.45581782e-01, -4.64515239e-01,\n",
            "       -1.81543541e+00,  2.67761648e-01,  1.09405911e+00, -7.55331337e-01,\n",
            "        1.00977802e+00,  5.82766056e-01, -1.51115760e-01, -4.10854012e-01,\n",
            "        4.81642365e-01, -1.53166258e+00,  7.85745800e-01, -1.01649773e+00,\n",
            "       -7.29409277e-01, -4.17750180e-02,  5.99407852e-01, -9.40521598e-01,\n",
            "        7.79025555e-01,  1.00718021e+00,  6.36974275e-01, -2.66742498e-01,\n",
            "       -1.99402809e-01,  5.64016819e-01,  1.02948081e+00,  7.88536549e-01,\n",
            "        3.67346182e-02,  1.01783969e-01, -1.74290895e+00,  2.50892997e-01,\n",
            "       -6.23460650e-01,  1.06205142e+00, -9.10538971e-01, -9.62281883e-01,\n",
            "       -1.59150028e+00, -1.70108616e+00,  1.08575010e+00,  3.58272702e-01,\n",
            "        1.79449749e+00, -5.91611981e-01,  8.74508739e-01, -6.42680466e-01,\n",
            "        1.45396602e+00,  5.83169937e-01, -8.93780813e-02,  9.24484074e-01,\n",
            "        2.72916317e-01,  8.60160828e-01,  9.22393084e-01, -2.06503916e+00,\n",
            "        1.67298000e-02, -4.52616960e-01,  2.39475504e-01, -6.69687092e-01,\n",
            "        6.28802419e-01,  2.02747092e-01,  8.92407835e-01, -3.09410244e-01,\n",
            "        3.28502983e-01,  2.20370317e+00, -1.20528948e+00,  9.83504772e-01,\n",
            "       -4.92904186e-01,  9.01932791e-02,  1.05118322e+00, -2.09507138e-01,\n",
            "        1.86061275e+00,  1.13388634e+00, -8.74306500e-01,  1.22096801e+00,\n",
            "       -1.07064700e+00, -1.87599808e-01,  4.76427108e-01,  1.65061307e+00,\n",
            "       -6.70410842e-02,  6.11922622e-01,  1.46544695e+00,  7.93798864e-01,\n",
            "        1.31950474e+00,  5.53973615e-01,  5.45497090e-02,  3.76994580e-01,\n",
            "        3.63096237e-01, -1.65022838e+00,  1.11997657e-01, -4.38846678e-01,\n",
            "       -1.20063293e+00,  4.48204726e-01,  2.39013657e-01, -1.19940197e+00,\n",
            "        1.95464766e+00,  2.51384079e-01, -7.10461915e-01, -2.44818997e+00,\n",
            "       -1.19592178e+00, -7.82107472e-01, -1.25355554e+00,  9.40576315e-01,\n",
            "       -8.48555982e-01, -4.92528260e-01, -7.02158362e-02, -1.12318695e+00,\n",
            "        8.84292603e-01, -9.75163460e-01, -7.37297356e-01, -2.55359143e-01,\n",
            "        1.93792004e-02,  2.08808827e+00,  3.76351207e-01, -7.06711590e-01,\n",
            "       -2.13886008e-01, -9.38285957e-04, -2.13808596e-01,  1.28290546e+00,\n",
            "       -9.35655832e-01,  1.68543324e-01,  1.26485503e+00,  5.45998812e-01,\n",
            "       -1.07971883e+00, -1.99342382e+00,  9.94970441e-01, -5.84964931e-01,\n",
            "       -3.10903728e-01,  9.58066821e-01,  1.39149952e+00,  1.19494951e+00,\n",
            "        3.15547645e-01, -4.31436747e-01,  4.79008943e-01, -5.73289394e-01,\n",
            "       -1.36236501e+00,  1.97178885e-01, -3.35299730e-01, -1.41043544e+00,\n",
            "        2.13575554e+00, -1.19625139e+00,  1.97107017e+00,  1.71789184e-01,\n",
            "        1.24882293e+00,  3.67688686e-01, -6.05473697e-01, -7.07587540e-01,\n",
            "        2.40480974e-01,  1.63302794e-01, -6.31891489e-01, -1.69479465e+00,\n",
            "       -4.28648055e-01, -1.06768203e+00,  1.29551947e+00,  1.77874994e+00,\n",
            "        1.38099700e-01, -4.81406927e-01, -6.15457892e-01,  1.45796096e+00,\n",
            "       -9.07950521e-01,  9.80569780e-01,  9.51568425e-01,  2.54154295e-01,\n",
            "       -1.06018305e+00, -1.07799304e+00, -1.15029371e+00,  4.72465336e-01,\n",
            "        1.04814482e+00,  1.01822957e-01, -5.78850031e-01, -7.34358191e-01,\n",
            "        2.23713592e-01,  5.99159338e-02, -2.14014745e+00, -9.73654568e-01,\n",
            "        7.58858144e-01,  1.42358816e+00, -1.81234884e+00, -1.66860476e-01,\n",
            "       -1.48358786e+00,  1.79628444e+00,  2.06126377e-01, -8.08892071e-01,\n",
            "       -2.55970746e-01,  1.24845493e+00, -1.49466658e+00,  1.03021955e+00,\n",
            "        5.87986469e-01,  2.78643906e-01, -1.17582895e-01, -5.79784632e-01,\n",
            "       -3.16698819e-01,  7.05203414e-01, -8.29076394e-03,  1.13894796e+00],\n",
            "      dtype=float32)}\n"
          ],
          "name": "stdout"
        }
      ]
    },
    {
      "cell_type": "code",
      "metadata": {
        "id": "a5X7pXRFath_"
      },
      "source": [
        "# Clean sentences of unnecessary words and make all lowercase\n",
        "df['clean_review']=df['review'].apply(clean_reviews)"
      ],
      "execution_count": null,
      "outputs": []
    },
    {
      "cell_type": "code",
      "metadata": {
        "colab": {
          "base_uri": "https://localhost:8080/",
          "height": 204
        },
        "id": "tBvqPTzib6yW",
        "outputId": "e55112c3-fdd3-4f3b-88b2-f18a66802b38"
      },
      "source": [
        "df.head()"
      ],
      "execution_count": null,
      "outputs": [
        {
          "output_type": "execute_result",
          "data": {
            "text/html": [
              "<div>\n",
              "<style scoped>\n",
              "    .dataframe tbody tr th:only-of-type {\n",
              "        vertical-align: middle;\n",
              "    }\n",
              "\n",
              "    .dataframe tbody tr th {\n",
              "        vertical-align: top;\n",
              "    }\n",
              "\n",
              "    .dataframe thead th {\n",
              "        text-align: right;\n",
              "    }\n",
              "</style>\n",
              "<table border=\"1\" class=\"dataframe\">\n",
              "  <thead>\n",
              "    <tr style=\"text-align: right;\">\n",
              "      <th></th>\n",
              "      <th>review</th>\n",
              "      <th>sentiment</th>\n",
              "      <th>clean_review</th>\n",
              "    </tr>\n",
              "  </thead>\n",
              "  <tbody>\n",
              "    <tr>\n",
              "      <th>0</th>\n",
              "      <td>I love a good strong cup of coffee - my favori...</td>\n",
              "      <td>0</td>\n",
              "      <td>love good strong cup coffee favorite k cup gre...</td>\n",
              "    </tr>\n",
              "    <tr>\n",
              "      <th>1</th>\n",
              "      <td>We have both the Sea Salt variety and the Cinn...</td>\n",
              "      <td>0</td>\n",
              "      <td>sea salt variety cinn sugar sea salt variety a...</td>\n",
              "    </tr>\n",
              "    <tr>\n",
              "      <th>2</th>\n",
              "      <td>Mallomars Pure Chocolate Cookies are delicious...</td>\n",
              "      <td>1</td>\n",
              "      <td>mallomars pure chocolate cooky delicious tasty...</td>\n",
              "    </tr>\n",
              "    <tr>\n",
              "      <th>3</th>\n",
              "      <td>Expensive little buggers - sixty cents for a p...</td>\n",
              "      <td>1</td>\n",
              "      <td>expensive little bugger sixty cent piece candy...</td>\n",
              "    </tr>\n",
              "    <tr>\n",
              "      <th>4</th>\n",
              "      <td>We had mole tunnels throughout our lawn.  We f...</td>\n",
              "      <td>0</td>\n",
              "      <td>mole tunnel throughout lawn first tried non le...</td>\n",
              "    </tr>\n",
              "  </tbody>\n",
              "</table>\n",
              "</div>"
            ],
            "text/plain": [
              "                                              review  ...                                       clean_review\n",
              "0  I love a good strong cup of coffee - my favori...  ...  love good strong cup coffee favorite k cup gre...\n",
              "1  We have both the Sea Salt variety and the Cinn...  ...  sea salt variety cinn sugar sea salt variety a...\n",
              "2  Mallomars Pure Chocolate Cookies are delicious...  ...  mallomars pure chocolate cooky delicious tasty...\n",
              "3  Expensive little buggers - sixty cents for a p...  ...  expensive little bugger sixty cent piece candy...\n",
              "4  We had mole tunnels throughout our lawn.  We f...  ...  mole tunnel throughout lawn first tried non le...\n",
              "\n",
              "[5 rows x 3 columns]"
            ]
          },
          "metadata": {
            "tags": []
          },
          "execution_count": 24
        }
      ]
    },
    {
      "cell_type": "code",
      "metadata": {
        "colab": {
          "base_uri": "https://localhost:8080/"
        },
        "id": "24t_5-lzcmbj",
        "outputId": "ffb9ef89-9554-47f5-e78b-68e2bec8598a"
      },
      "source": [
        "# Find average document lengths to be used for padding/trimming\n",
        "sum=0\n",
        "maxi=-1\n",
        "mini=1564\n",
        "for i,rev in enumerate(df['clean_review']):\n",
        "  tokens=rev.split()\n",
        "  sum+=len(tokens)\n",
        "  # tokens=rev.split()\n",
        "  if(len(tokens)>maxi):\n",
        "    maxi=len(tokens)\n",
        "  if(len(tokens)<mini):\n",
        "    mini=len(tokens)\n",
        "avg_doc_len=int(sum/(len(df['clean_review'])))\n",
        "\n",
        "# Print data of document lengths\n",
        "print(\"Average document length: \"+str(avg_doc_len))\n",
        "print(\"Max document length: \"+str(maxi))\n",
        "print(\"Min document length: \"+str(mini))"
      ],
      "execution_count": null,
      "outputs": [
        {
          "output_type": "stream",
          "text": [
            "Average document length: 41\n",
            "Max document length: 1564\n",
            "Min document length: 2\n"
          ],
          "name": "stdout"
        }
      ]
    },
    {
      "cell_type": "code",
      "metadata": {
        "colab": {
          "base_uri": "https://localhost:8080/"
        },
        "id": "hE0G0T2PdFKE",
        "outputId": "09ce5b17-01dc-4723-c231-6c0628c21ec0"
      },
      "source": [
        "# Comparing document lengths\n",
        "gt_avg=0\n",
        "lt_avg=0\n",
        "doc_len_lst=[]\n",
        "for i,rev in enumerate(df['clean_review']):\n",
        "  tokens_len=len(rev.split())\n",
        "  doc_len_lst.append(tokens_len)\n",
        "  if tokens_len > avg_doc_len:\n",
        "    gt_avg+=1\n",
        "  else:\n",
        "    lt_avg+=1\n",
        "\n",
        "print(\"Number of docs with length greater than average length: \"+str(gt_avg))\n",
        "print(\"Number of docs with length less than average length: \"+str(lt_avg))"
      ],
      "execution_count": null,
      "outputs": [
        {
          "output_type": "stream",
          "text": [
            "Number of docs with length greater than average length: 33268\n",
            "Number of docs with length less than average length: 66732\n"
          ],
          "name": "stdout"
        }
      ]
    },
    {
      "cell_type": "code",
      "metadata": {
        "colab": {
          "base_uri": "https://localhost:8080/",
          "height": 486
        },
        "id": "odI7VxNsgnlp",
        "outputId": "daa8de80-0a11-4587-a35b-fc5d221e09f2"
      },
      "source": [
        "# Fixing random state for reproducibility\n",
        "np.random.seed(19680801)\n",
        "n_bins=100\n",
        "\n",
        "rating_fig = plt.figure(figsize=(10,7.5)).add_subplot(111)\n",
        "rating_fig.hist(doc_len_lst, n_bins)\n",
        "rating_fig.set_ylabel('Number of Documents')\n",
        "rating_fig.set_xlabel('Document Length')\n",
        "rating_fig.set_title('Document Lengths')\n",
        "plt.savefig(\"document_lengths.png\")\n",
        "plt.show()"
      ],
      "execution_count": null,
      "outputs": [
        {
          "output_type": "display_data",
          "data": {
            "image/png": "[encoded data removed]",
            "text/plain": [
              "<Figure size 720x540 with 1 Axes>"
            ]
          },
          "metadata": {
            "tags": [],
            "needs_background": "light"
          }
        }
      ]
    },
    {
      "cell_type": "markdown",
      "metadata": {
        "id": "oqLxtP2SoLQY"
      },
      "source": [
        "## Document Length Quick Analysis"
      ]
    },
    {
      "cell_type": "markdown",
      "metadata": {
        "id": "Y7pKbkuZfzHs"
      },
      "source": [
        "Quick document length analysis:\n",
        "\n",
        "\n",
        "*   2/3 are shorter than average documents\n",
        "*   1/3 are longer than average documents\n",
        "*   Max document length: 1564\n",
        "*   Min document length: 2\n",
        "*   Average document length: 41; Most documents close to avg document length\n",
        "\n"
      ]
    },
    {
      "cell_type": "markdown",
      "metadata": {
        "id": "3kDpeaPglraA"
      },
      "source": [
        "#Normalizing The Data"
      ]
    },
    {
      "cell_type": "code",
      "metadata": {
        "id": "hQGz9tfgfnw1"
      },
      "source": [
        "# Tokenize each document\n",
        "tok = Tokenizer()\n",
        "tok.fit_on_texts(df['clean_review'])\n",
        "vocab_size = len(tok.word_index) + 1\n",
        "encd_rev = tok.texts_to_sequences(df['clean_review'])"
      ],
      "execution_count": null,
      "outputs": []
    },
    {
      "cell_type": "code",
      "metadata": {
        "colab": {
          "base_uri": "https://localhost:8080/"
        },
        "id": "N540EvtvjtQM",
        "outputId": "9147ad4d-c739-4fa7-d7d6-6a1bcf675eb3"
      },
      "source": [
        "# Pad each document to the average document size (41)\n",
        "pad_rev= pad_sequences(encd_rev, maxlen=avg_doc_len, padding='post')\n",
        "print(pad_rev.shape)\n",
        "print(pad_rev[:5])"
      ],
      "execution_count": null,
      "outputs": [
        {
          "output_type": "stream",
          "text": [
            "(100000, 41)\n",
            "[[29239    29     5    42  2691  2358   264  7388   301  1788   844   275\n",
            "   6053    12    67   844  5426   154   289   944   425 11587  2691  2620\n",
            "    154   289   110  2186   289  3787  3907  2620   241   137 22650  2691\n",
            "  29240  6366   569  1120 29241]\n",
            " [ 1773   495     1   266    26   270   742   224  1895   101   107  8841\n",
            "   1054  3114     6     9    46  2469   264     9   130     9   264     9\n",
            "    145  1923   130     9    89   505 22651     9   127    76   177    34\n",
            "    477     2     4  5208    70]\n",
            " [  645    12  1306     1  2813  1192    54  1660  1459    15    52   222\n",
            "   2936    83  1050   104     0     0     0     0     0     0     0     0\n",
            "      0     0     0     0     0     0     0     0     0     0     0     0\n",
            "      0     0     0     0     0]\n",
            " [  499   216    42    84    30  3268   488    14    24  1132  1188   372\n",
            "     68  3479  3542    23   571    17    17   124  3479 11096   569    68\n",
            "   5501   605    10   224   414  4462   190    91   154   269     4    11\n",
            "    139    24    14   697    21]\n",
            " [    1   363   399   509   455   521   106   335  5769  1196    95 29242\n",
            "     74    52   358     0     0     0     0     0     0     0     0     0\n",
            "      0     0     0     0     0     0     0     0     0     0     0     0\n",
            "      0     0     0     0     0]]\n"
          ],
          "name": "stdout"
        }
      ]
    },
    {
      "cell_type": "code",
      "metadata": {
        "colab": {
          "base_uri": "https://localhost:8080/"
        },
        "id": "9eDATgvGl7O4",
        "outputId": "6ed38eb6-caf0-474c-e259-8015e94178ec"
      },
      "source": [
        "# Creating the embedding matrix\n",
        "# if word is not found then embed_vector corressponding to that vector will stay zero.\n",
        "embed_matrix=np.zeros(shape=(vocab_size,EMBED_DIM))\n",
        "for word,i in tok.word_index.items():\n",
        "  embed_vector=word_to_vec_dict.get(word)\n",
        "  if embed_vector is not None:  # word is in the vocabulary learned by the w2v model\n",
        "    embed_matrix[i]=embed_vector\n",
        "print(embed_matrix[10])"
      ],
      "execution_count": null,
      "outputs": [
        {
          "output_type": "stream",
          "text": [
            "[ 1.33750319  0.12581345 -0.08169003 -2.16334867 -0.20855562 -0.01589816\n",
            " -0.22413279  1.32982349 -0.93616724 -1.16105974  0.55559075  0.797822\n",
            "  0.72972786  1.14656532  1.33787417 -0.0238317   1.78726459  0.55109102\n",
            " -1.49905765 -1.64861012  1.72003019 -0.54890049 -1.92500901 -0.87466472\n",
            " -1.95296705  1.58111155  1.19189858 -1.01667321 -0.07242242  0.15098421\n",
            " -0.3227261   1.3065927   2.23772669 -0.2252392   0.78230131  0.52254921\n",
            " -0.36957961  2.69132495  0.36438417 -1.26902699  0.9480716  -1.1894021\n",
            "  0.97433323 -1.23013353 -0.79289579 -1.99662936  0.06928537 -1.98460865\n",
            " -1.4229753   0.81409532  1.28563511  1.63743484 -0.66707188 -0.71287483\n",
            " -0.07317875 -0.24059713 -0.9298147   0.718081    0.91923463 -0.96607792\n",
            " -0.37300846 -1.36532986  0.20984674 -0.65010095 -1.8523891  -1.81691122\n",
            " -0.4996216   1.09060633 -1.04426932 -0.23035377 -2.28389597  1.01800609\n",
            " -0.97477996 -0.93871391 -0.69001621  0.3486245  -0.52598089  1.55328822\n",
            " -0.26722738 -0.09759583  1.64442384  0.19107191  1.32916391 -1.598979\n",
            " -0.06200458  0.69260955 -1.32845581  0.23718458 -0.80998522  0.62479717\n",
            " -0.51146442  0.87382734 -0.41904205 -1.08446395 -0.43557364  0.65392166\n",
            "  0.3623445  -0.94288099  0.33291364 -2.18900895  0.44894627  0.46214882\n",
            " -1.25295854  0.89097524 -1.30694604  0.41861242  0.6623925  -2.10278654\n",
            "  0.34033036 -1.06952345  0.38942882  0.85122484 -0.99455208 -1.61670017\n",
            " -0.15151066 -0.5055908   0.27783969  0.91693538  0.98625392  1.68989646\n",
            "  1.18081915  2.87302256 -1.11055672 -1.87571955  0.07173122  0.69613934\n",
            " -0.04066534  0.84611762  0.18731552  0.42368174  1.91003072  0.03903246\n",
            " -0.51385057 -2.40523911 -0.95455408 -0.05505488  0.37870264 -0.26461607\n",
            "  0.52726036 -0.6285184  -2.01177359 -0.25101197 -2.31870937 -0.24806082\n",
            "  1.78175747  0.70447189  1.41979873 -1.56197679  0.26493618  0.73764449\n",
            " -0.63330805  2.95960021 -0.49988604 -0.46578628  0.84909356 -0.00333095\n",
            "  1.06835175 -0.96796918  0.90765232 -1.62655067 -2.01464081  0.25285488\n",
            " -0.40668035 -0.37809277  1.00744569 -1.7649045  -0.15872069 -0.2722137\n",
            " -0.95994943  2.08565521 -1.05355251 -2.09136581  0.99540412 -0.1055729\n",
            "  0.79479945  0.92927921 -1.42308533  1.10539401 -1.38178861 -1.80882132\n",
            "  0.00607391 -0.34462917  0.6149357   0.16789697 -0.40040478 -1.15385544\n",
            " -0.04199387 -0.52874154 -1.29941332 -0.87893087 -1.80649388  1.13785708\n",
            "  1.54215276 -0.97428131  0.18781297 -1.04293001 -1.87931764 -0.19388326\n",
            "  0.61586469  1.00549591 -1.36227    -0.92531526  1.23433411  0.09300254\n",
            " -0.73504841  1.14371097 -0.30628288 -1.07947981  1.00713933 -1.44281137\n",
            " -1.55629385  2.23607326 -0.31788072 -1.11917198 -0.20342873 -0.2278233\n",
            "  0.57995033  1.2446419   2.4503119  -0.9487164   1.5830152   0.00340427\n",
            "  1.11472869 -0.83784002 -1.04143059  0.67216575  0.21851303 -1.62723804\n",
            " -1.71950006  2.12811351  0.09107763 -0.16089037 -0.14073439 -1.69438231\n",
            " -0.26404229 -0.54305029  0.26879767 -2.53131342 -0.03490265  0.75405484\n",
            "  1.50025952 -0.72817081 -0.37609237  1.01273191  0.18390119 -1.5001874\n",
            "  1.10398102 -1.0183742  -0.72178882  0.92406934  0.95618719 -0.44048101\n",
            " -0.18648288 -0.40521255  0.01854215 -1.59440315  0.41552183 -2.06899738\n",
            "  0.28720877  0.73012549  0.52682459 -0.91805357 -0.29652834  0.47587129\n",
            " -0.04132956 -1.0031662  -0.04797923  1.67106521  1.22964084 -2.94677615\n",
            "  1.18722296  0.58095425 -1.0277673   1.98611903  0.79664981 -0.50170296\n",
            "  0.80935842  1.89098001 -1.73307216  0.49128863 -0.29535487 -1.10918653\n",
            "  0.69294196 -1.26397848 -0.39168257 -0.40075687 -1.57571685 -0.51776963\n",
            "  0.11245887 -0.10880396 -0.80297256 -1.59548438 -0.05880363  0.62157303\n",
            "  0.32336277  0.691365    0.42253461 -2.15278244 -0.23208578  2.50666285]\n"
          ],
          "name": "stdout"
        }
      ]
    },
    {
      "cell_type": "markdown",
      "metadata": {
        "id": "7wJ2u5WL6Mf3"
      },
      "source": [
        "#Create Test, Train, Validation Datasets"
      ]
    },
    {
      "cell_type": "code",
      "metadata": {
        "id": "2Uz7erbQmw8k"
      },
      "source": [
        "# One hot encode sentiment (y labels)\n",
        "Y=keras.utils.to_categorical(df['sentiment'])\n",
        "\n",
        "# Create train, validation sets\n",
        "x_train,x_val,y_train,y_val=train_test_split(pad_rev,Y,test_size=0.20,random_state=42)"
      ],
      "execution_count": null,
      "outputs": []
    },
    {
      "cell_type": "markdown",
      "metadata": {
        "id": "yALU_ManAe_M"
      },
      "source": [
        "# Model Helper functions"
      ]
    },
    {
      "cell_type": "code",
      "metadata": {
        "id": "sS5jjYhx-ZV_"
      },
      "source": [
        "def save_model(model,filename):\n",
        "  '''\n",
        "  Saves model as hdf5 file\n",
        "\n",
        "  Parameters:\n",
        "    model: keras model \n",
        "      Type: keras.model\n",
        "    filename: path to file\n",
        "      Type: str\n",
        "  '''\n",
        "  assert \".h5\" in filename\n",
        "  model.save(filename)\n",
        "  print(\"Saved model\")\n",
        "\n",
        "def plot_model_data(history, model_name):\n",
        "  '''\n",
        "  Plots accuracy and loss hisotry of a model on\n",
        "  training and validation sets\n",
        "\n",
        "  Parameters: \n",
        "    history: keras history instance\n",
        "      Type: keras.callbacks.History\n",
        "    model_name: name of the model (usually model<num>. Ex. model1)\n",
        "      Type: str\n",
        "  '''\n",
        "  # summarize history for accuracy\n",
        "  plt.plot(history.history['accuracy'])\n",
        "  plt.plot(history.history['val_accuracy'])\n",
        "  plt.title('model accuracy')\n",
        "  plt.ylabel('accuracy')\n",
        "  plt.xlabel('epoch')\n",
        "  plt.legend(['train', 'test'], loc='upper left')\n",
        "  plt.savefig(model_name+\"_acc.png\")\n",
        "  plt.show()\n",
        "  # summarize history for loss\n",
        "  plt.plot(history.history['loss'])\n",
        "  plt.plot(history.history['val_loss'])\n",
        "  plt.title('model loss')\n",
        "  plt.ylabel('loss')\n",
        "  plt.xlabel('epoch')\n",
        "  plt.legend(['train', 'test'], loc='upper left')\n",
        "  plt.savefig(model_name+\"_loss.png\")\n",
        "  plt.show()"
      ],
      "execution_count": null,
      "outputs": []
    },
    {
      "cell_type": "markdown",
      "metadata": {
        "id": "HCYlimv5nNSF"
      },
      "source": [
        "#First Model\n",
        "\n",
        "Base model"
      ]
    },
    {
      "cell_type": "code",
      "metadata": {
        "colab": {
          "base_uri": "https://localhost:8080/"
        },
        "id": "OGNT_4EuoGEU",
        "outputId": "e878d232-45a5-4c8a-e180-6716e3f4119b"
      },
      "source": [
        "model=Sequential() # LSTM layer\n",
        "model.add(Embedding(\n",
        "    input_dim=vocab_size,\n",
        "    output_dim=EMBED_DIM,\n",
        "    input_length=avg_doc_len,\n",
        "    embeddings_initializer=Constant(embed_matrix)))\n",
        "model.add(LSTM(100))\n",
        "model.add(Dropout(0.50)) # Prevents overfitting by 'forgetting' weights occasinally\n",
        "model.add(Dense(2,activation='sigmoid'))  # sigmod for bin. classification.\n",
        "model.summary()"
      ],
      "execution_count": null,
      "outputs": [
        {
          "output_type": "stream",
          "text": [
            "Model: \"sequential\"\n",
            "_________________________________________________________________\n",
            "Layer (type)                 Output Shape              Param #   \n",
            "=================================================================\n",
            "embedding (Embedding)        (None, 41, 300)           16914000  \n",
            "_________________________________________________________________\n",
            "lstm (LSTM)                  (None, 100)               160400    \n",
            "_________________________________________________________________\n",
            "dropout (Dropout)            (None, 100)               0         \n",
            "_________________________________________________________________\n",
            "dense (Dense)                (None, 2)                 202       \n",
            "=================================================================\n",
            "Total params: 17,074,602\n",
            "Trainable params: 17,074,602\n",
            "Non-trainable params: 0\n",
            "_________________________________________________________________\n"
          ],
          "name": "stdout"
        }
      ]
    },
    {
      "cell_type": "code",
      "metadata": {
        "colab": {
          "base_uri": "https://localhost:8080/",
          "height": 692
        },
        "id": "r6LF7dZupbNm",
        "outputId": "8e074908-80d8-4fba-c7e4-bbf66f50a820"
      },
      "source": [
        "# Compile the model\n",
        "model.compile(optimizer='adam',loss='binary_crossentropy',metrics=['accuracy'])\n",
        "\n",
        "# Train model\n",
        "epochs=3 # after 3 epochs, model starts to overfit (determined by seeing val_loss increase while loss deceased)\n",
        "batch_size=32\n",
        "history=model.fit(x_train,y_train,epochs=epochs,batch_size=batch_size,validation_data=(x_val,y_val))\n",
        "save_model(model, \"model1.h5\")\n",
        "\n",
        "# Plot model data\n",
        "plot_model_data(history, \"model1\")"
      ],
      "execution_count": null,
      "outputs": [
        {
          "output_type": "stream",
          "text": [
            "Epoch 1/3\n",
            "2500/2500 [==============================] - 587s 235ms/step - loss: 0.4036 - accuracy: 0.8226 - val_loss: 0.3632 - val_accuracy: 0.8400\n",
            "Epoch 2/3\n",
            "2500/2500 [==============================] - 586s 234ms/step - loss: 0.3085 - accuracy: 0.8712 - val_loss: 0.3517 - val_accuracy: 0.8465\n",
            "Epoch 3/3\n",
            "2500/2500 [==============================] - 586s 234ms/step - loss: 0.2413 - accuracy: 0.9019 - val_loss: 0.3850 - val_accuracy: 0.8425\n",
            "Saved model\n"
          ],
          "name": "stdout"
        },
        {
          "output_type": "display_data",
          "data": {
            "image/png": "[encoded data removed]",
            "text/plain": [
              "<Figure size 432x288 with 1 Axes>"
            ]
          },
          "metadata": {
            "tags": [],
            "needs_background": "light"
          }
        },
        {
          "output_type": "display_data",
          "data": {
            "image/png": "[encoded data removed]",
            "text/plain": [
              "<Figure size 432x288 with 1 Axes>"
            ]
          },
          "metadata": {
            "tags": [],
            "needs_background": "light"
          }
        }
      ]
    },
    {
      "cell_type": "markdown",
      "metadata": {
        "id": "LCjyR4NoymVt"
      },
      "source": [
        "##Results"
      ]
    },
    {
      "cell_type": "markdown",
      "metadata": {
        "id": "iowgW2q8wjh5"
      },
      "source": [
        "**Analysis**: \n",
        "\n",
        "Model may be overfitting as shown by the validation loss increasing over epochs while training loss is decreasing. Possible fixes may be to increase dropout or lower number of epochs.\n",
        "\n",
        "Edit: changed number epochs form 5 to 3 to stop over fitting"
      ]
    },
    {
      "cell_type": "markdown",
      "metadata": {
        "id": "4dEmVlaqtHmt"
      },
      "source": [
        "# Second Model\n",
        "\n",
        "Reverse encoding"
      ]
    },
    {
      "cell_type": "code",
      "metadata": {
        "colab": {
          "base_uri": "https://localhost:8080/"
        },
        "id": "WZ9Bey9vttUr",
        "outputId": "f7cc478c-c122-42c3-b0a0-ae184ba4a3b4"
      },
      "source": [
        "model=Sequential() # LSTM layer\n",
        "model.add(Embedding(\n",
        "    input_dim=vocab_size,\n",
        "    output_dim=EMBED_DIM,\n",
        "    input_length=avg_doc_len,\n",
        "    embeddings_initializer=Constant(embed_matrix)))\n",
        "model.add(LSTM(100, go_backwards=True))\n",
        "model.add(Dropout(0.50)) # Prevents overfitting by 'forgetting' weights occasinally\n",
        "model.add(Dense(2,activation='sigmoid'))  # sigmod for bin. classification.\n",
        "model.summary()"
      ],
      "execution_count": null,
      "outputs": [
        {
          "output_type": "stream",
          "text": [
            "Model: \"sequential_1\"\n",
            "_________________________________________________________________\n",
            "Layer (type)                 Output Shape              Param #   \n",
            "=================================================================\n",
            "embedding_1 (Embedding)      (None, 41, 300)           16914000  \n",
            "_________________________________________________________________\n",
            "lstm_1 (LSTM)                (None, 100)               160400    \n",
            "_________________________________________________________________\n",
            "dropout_1 (Dropout)          (None, 100)               0         \n",
            "_________________________________________________________________\n",
            "dense_1 (Dense)              (None, 2)                 202       \n",
            "=================================================================\n",
            "Total params: 17,074,602\n",
            "Trainable params: 17,074,602\n",
            "Non-trainable params: 0\n",
            "_________________________________________________________________\n"
          ],
          "name": "stdout"
        }
      ]
    },
    {
      "cell_type": "code",
      "metadata": {
        "colab": {
          "base_uri": "https://localhost:8080/",
          "height": 692
        },
        "id": "CIXb8cJTwOao",
        "outputId": "ccdf8e5d-2e08-49f9-98c5-db92dea68cde"
      },
      "source": [
        "# Compile the model\n",
        "model.compile(optimizer='adam',loss='binary_crossentropy',metrics=['accuracy'])\n",
        "\n",
        "# Train model\n",
        "epochs=3 # after 3 epochs, model starts to overfit (determined by seeing val_loss increase while loss deceased)\n",
        "batch_size=32\n",
        "history=model.fit(x_train,y_train,epochs=epochs,batch_size=batch_size,validation_data=(x_val,y_val))\n",
        "save_model(model, \"model2.h5\")\n",
        "\n",
        "# Plot model data\n",
        "plot_model_data(history, \"model2\")"
      ],
      "execution_count": null,
      "outputs": [
        {
          "output_type": "stream",
          "text": [
            "Epoch 1/3\n",
            "2500/2500 [==============================] - 392s 157ms/step - loss: 0.3947 - accuracy: 0.8262 - val_loss: 0.3563 - val_accuracy: 0.8440\n",
            "Epoch 2/3\n",
            "2500/2500 [==============================] - 389s 156ms/step - loss: 0.3015 - accuracy: 0.8745 - val_loss: 0.3492 - val_accuracy: 0.8478\n",
            "Epoch 3/3\n",
            "2500/2500 [==============================] - 391s 156ms/step - loss: 0.2348 - accuracy: 0.9043 - val_loss: 0.3877 - val_accuracy: 0.8446\n",
            "Saved model\n"
          ],
          "name": "stdout"
        },
        {
          "output_type": "display_data",
          "data": {
            "image/png": "[encoded data removed]",
            "text/plain": [
              "<Figure size 432x288 with 1 Axes>"
            ]
          },
          "metadata": {
            "tags": [],
            "needs_background": "light"
          }
        },
        {
          "output_type": "display_data",
          "data": {
            "image/png": "[encoded data removed]",
            "text/plain": [
              "<Figure size 432x288 with 1 Axes>"
            ]
          },
          "metadata": {
            "tags": [],
            "needs_background": "light"
          }
        }
      ]
    },
    {
      "cell_type": "markdown",
      "metadata": {
        "id": "cIAl0nisyx-R"
      },
      "source": [
        "##Results"
      ]
    },
    {
      "cell_type": "markdown",
      "metadata": {
        "id": "JlqzHOhZy0Jx"
      },
      "source": [
        "**Analysis**\n",
        "\n",
        "Reversing input didn't really affect the accuracy of the model. As with the base model, this model is still overfitting and has about the same accuracy."
      ]
    },
    {
      "cell_type": "markdown",
      "metadata": {
        "id": "VPiS0e4v1EwP"
      },
      "source": [
        "# Third Model\n",
        "\n",
        "Increase dropout"
      ]
    },
    {
      "cell_type": "code",
      "metadata": {
        "colab": {
          "base_uri": "https://localhost:8080/"
        },
        "id": "62c4OAG51MlH",
        "outputId": "2bdcb50b-6726-41c3-fb4f-eed1b2df9fe0"
      },
      "source": [
        "model=Sequential() # LSTM layer\n",
        "model.add(Embedding(\n",
        "    input_dim=vocab_size,\n",
        "    output_dim=EMBED_DIM,\n",
        "    input_length=avg_doc_len,\n",
        "    embeddings_initializer=Constant(embed_matrix)))\n",
        "model.add(Bidirectional(LSTM(50))) # Changed for testing. Revert to 100 later\n",
        "model.add(Dropout(0.85)) # Prevents overfitting by 'forgetting' weights occasinally\n",
        "model.add(Dense(2,activation='sigmoid'))  # sigmod for bin. classification.\n",
        "model.summary()"
      ],
      "execution_count": null,
      "outputs": [
        {
          "output_type": "stream",
          "text": [
            "Model: \"sequential_2\"\n",
            "_________________________________________________________________\n",
            "Layer (type)                 Output Shape              Param #   \n",
            "=================================================================\n",
            "embedding_2 (Embedding)      (None, 41, 300)           16914000  \n",
            "_________________________________________________________________\n",
            "bidirectional (Bidirectional (None, 100)               140400    \n",
            "_________________________________________________________________\n",
            "dropout_2 (Dropout)          (None, 100)               0         \n",
            "_________________________________________________________________\n",
            "dense_2 (Dense)              (None, 2)                 202       \n",
            "=================================================================\n",
            "Total params: 17,054,602\n",
            "Trainable params: 17,054,602\n",
            "Non-trainable params: 0\n",
            "_________________________________________________________________\n"
          ],
          "name": "stdout"
        }
      ]
    },
    {
      "cell_type": "code",
      "metadata": {
        "colab": {
          "base_uri": "https://localhost:8080/",
          "height": 692
        },
        "id": "t8QD2Hw-1OSR",
        "outputId": "ecc8ee31-7b64-45cf-9740-9baf36fd8dad"
      },
      "source": [
        "# Compile the model\n",
        "model.compile(optimizer='adam',loss='binary_crossentropy',metrics=['accuracy'])\n",
        "\n",
        "# Train model\n",
        "epochs=3 # after 3 epochs, model starts to overfit (determined by seeing val_loss increase while loss deceased)\n",
        "batch_size=32\n",
        "history=model.fit(x_train,y_train,epochs=epochs,batch_size=batch_size,validation_data=(x_val,y_val))\n",
        "save_model(model, \"model3.h5\")\n",
        "\n",
        "# Plot model data\n",
        "plot_model_data(history, \"model3\")"
      ],
      "execution_count": null,
      "outputs": [
        {
          "output_type": "stream",
          "text": [
            "Epoch 1/3\n",
            "2500/2500 [==============================] - 397s 159ms/step - loss: 0.4320 - accuracy: 0.8085 - val_loss: 0.3704 - val_accuracy: 0.8375\n",
            "Epoch 2/3\n",
            "2500/2500 [==============================] - 385s 154ms/step - loss: 0.3396 - accuracy: 0.8591 - val_loss: 0.3548 - val_accuracy: 0.8443\n",
            "Epoch 3/3\n",
            "2500/2500 [==============================] - 385s 154ms/step - loss: 0.2874 - accuracy: 0.8844 - val_loss: 0.3698 - val_accuracy: 0.8454\n",
            "Saved model\n"
          ],
          "name": "stdout"
        },
        {
          "output_type": "display_data",
          "data": {
            "image/png": "[encoded data removed]",
            "text/plain": [
              "<Figure size 432x288 with 1 Axes>"
            ]
          },
          "metadata": {
            "tags": [],
            "needs_background": "light"
          }
        },
        {
          "output_type": "display_data",
          "data": {
            "image/png": "[encoded data removed]",
            "text/plain": [
              "<Figure size 432x288 with 1 Axes>"
            ]
          },
          "metadata": {
            "tags": [],
            "needs_background": "light"
          }
        }
      ]
    },
    {
      "cell_type": "code",
      "metadata": {
        "colab": {
          "base_uri": "https://localhost:8080/",
          "height": 573
        },
        "id": "__F22BBC2iWW",
        "outputId": "c1e77721-7f6d-4d33-d2e6-36f1caface89"
      },
      "source": [
        "plot_model_data(history, \"model3\") # This is from old model that didn't use lstm layer. Not sure why it did so well "
      ],
      "execution_count": null,
      "outputs": [
        {
          "output_type": "display_data",
          "data": {
            "image/png": "[encoded data removed]",
            "text/plain": [
              "<Figure size 432x288 with 1 Axes>"
            ]
          },
          "metadata": {
            "tags": [],
            "needs_background": "light"
          }
        },
        {
          "output_type": "display_data",
          "data": {
            "image/png": "[encoded data removed]",
            "text/plain": [
              "<Figure size 432x288 with 1 Axes>"
            ]
          },
          "metadata": {
            "tags": [],
            "needs_background": "light"
          }
        }
      ]
    },
    {
      "cell_type": "markdown",
      "metadata": {
        "id": "IpiszqDt3bPK"
      },
      "source": [
        "##Results"
      ]
    },
    {
      "cell_type": "markdown",
      "metadata": {
        "id": "sRb-3fMN3dO3"
      },
      "source": [
        "**Output** \n",
        "\n",
        "Epoch 1/5\n",
        "938/938 [==============================] - 94s 100ms/step - loss: 0.5745 - accuracy: 0.7022 - val_loss: 0.4460 - val_accuracy: 0.8001\n",
        "\n",
        "Epoch 2/5\n",
        "938/938 [==============================] - 88s 94ms/step - loss: 0.4816 - accuracy: 0.7653 - val_loss: 0.4072 - val_accuracy: 0.8163\n",
        "\n",
        "Epoch 3/5\n",
        "938/938 [==============================] - 88s 94ms/step - loss: 0.4330 - accuracy: 0.7983 - val_loss: 0.3935 - val_accuracy: 0.8242\n",
        "\n",
        "Epoch 4/5\n",
        "938/938 [==============================] - 88s 94ms/step - loss: 0.4001 - accuracy: 0.8168 - val_loss: 0.3969 - val_accuracy: 0.8271\n",
        "\n",
        "Epoch 5/5\n",
        "938/938 [==============================] - 87s 93ms/step - loss: 0.3761 - accuracy: 0.8293 - val_loss: 0.4005 - val_accuracy: 0.8267\n",
        "\n",
        "**Analysis**\n",
        "\n",
        "Increased dropout from 0.5 => 0.65 made model accuracy worse but improved validation loss over epochs (continued to decrease until the last epoch)"
      ]
    },
    {
      "cell_type": "markdown",
      "metadata": {
        "id": "c8aELNjxrIXM"
      },
      "source": [
        "# DEMO: Using the RNN to Predict Review Sentiment"
      ]
    },
    {
      "cell_type": "code",
      "metadata": {
        "colab": {
          "base_uri": "https://localhost:8080/"
        },
        "id": "AuA7oeFZzIqn",
        "outputId": "37451434-f5d2-4cd4-8c13-17d8d0f21d84"
      },
      "source": [
        "import os\n",
        "from keras.preprocessing.text import Tokenizer\n",
        "from keras.preprocessing.sequence import pad_sequences\n",
        "import re\n",
        "from nltk.stem import WordNetLemmatizer  # lemmatizer from WordNet\n",
        "import nltk\n",
        "nltk.download('wordnet')\n",
        "nltk.download('stopwords')\n",
        "from nltk.corpus import stopwords\n",
        "from keras.models import load_model\n",
        "from pandas import DataFrame\n",
        "import numpy as np\n",
        "from bs4 import BeautifulSoup \n",
        "from google.colab import drive\n",
        "drive.mount('/content/drive')\n",
        "\n",
        "# ------------------- Helper Functions ------------------------\n",
        "def clean_reviews(review):  \n",
        "    '''\n",
        "    Clean and pre-process the text.\n",
        "    parameter review: review\n",
        "    parameter review type: str\n",
        "    '''\n",
        "    # 1. Removing html tags\n",
        "    review_text = BeautifulSoup(review,\"lxml\").get_text()\n",
        "    \n",
        "    # 2. Retaining only alphabets.\n",
        "    review_text = re.sub(\"[^a-zA-Z]\",\" \",review_text)\n",
        "    \n",
        "    # 3. Converting to lower case and splitting\n",
        "    word_tokens= review_text.lower().split()\n",
        "    \n",
        "    # 4. Remove stopwords\n",
        "    le=WordNetLemmatizer()\n",
        "    stop_words= set(stopwords.words(\"english\"))     \n",
        "    word_tokens= [le.lemmatize(w) for w in word_tokens if not w in stop_words]\n",
        "    \n",
        "    cleaned_review=\" \".join(word_tokens)\n",
        "    return cleaned_review\n",
        "  \n",
        "def create_output_df(reviews, model_output):\n",
        "  neg = []\n",
        "  pos = []\n",
        "  sentiment = []\n",
        "  for i in model_output:\n",
        "    neg.append(i[0].numpy())\n",
        "    pos.append(i[1].numpy())\n",
        "    sentiment.append(np.argmax(i))\n",
        "  output = DataFrame({\n",
        "      'Review': reviews,\n",
        "      'Negative': neg,\n",
        "      'Positive': pos,\n",
        "      'Overall Sentiment': sentiment\n",
        "    })\n",
        "  return output\n",
        "\n",
        "def predict(model, sentences_raw):\n",
        "  print(\"Tokenizing input sentences...\")\n",
        "  sentences=DataFrame(sentences_raw,columns=['review'])\n",
        "  sentences['clean_review']=sentences['review'].apply(clean_reviews)\n",
        "\n",
        "  # Tokenize each document\n",
        "  tok = Tokenizer()\n",
        "  tok.fit_on_texts(sentences['clean_review'])\n",
        "  vocab_size = len(tok.word_index) + 1\n",
        "  encd_rev = tok.texts_to_sequences(sentences['clean_review'])\n",
        "  # Pad each document to the average document size (41)\n",
        "  pad_rev=pad_sequences(encd_rev, maxlen=41, padding='post')\n",
        "\n",
        "  print(\"Predicting...\")\n",
        "  return create_output_df(sentences_raw, model(pad_rev))\n",
        "# ------------------- End Helper Functions ------------------------\n",
        "\n",
        "print(\"Loading model...\")\n",
        "jackie_model_path = \"/content/drive/MyDrive/Junior/CS 4701 AI /model1_final.h5\"\n",
        "model = load_model(jackie_model_path)"
      ],
      "execution_count": null,
      "outputs": [
        {
          "output_type": "stream",
          "text": [
            "[nltk_data] Downloading package wordnet to /root/nltk_data...\n",
            "[nltk_data]   Unzipping corpora/wordnet.zip.\n",
            "[nltk_data] Downloading package stopwords to /root/nltk_data...\n",
            "[nltk_data]   Unzipping corpora/stopwords.zip.\n",
            "Mounted at /content/drive\n",
            "Loading model...\n"
          ],
          "name": "stdout"
        }
      ]
    },
    {
      "cell_type": "code",
      "metadata": {
        "colab": {
          "base_uri": "https://localhost:8080/",
          "height": 263
        },
        "id": "FDDiGHFBrMkF",
        "outputId": "00f667d9-2960-445d-92a7-e5bfca6300df"
      },
      "source": [
        "# -------------- Enter sentences to be predicted here --------------\n",
        "reviews=[\n",
        "         \"I would not buy these marshmallows again.\",\n",
        "         \"These marshmallows are too small. Would not buy again\", \n",
        "         \"Buy.\",\n",
        "         \"Don't buy.\",\n",
        "         \"All of these marshmallows were super fluffy! I made marshmallow snowmen from them.\",\n",
        "         \"Marshmallows are made of sugar.\"\n",
        "         ]\n",
        "# ------------------------------------------------------------------\n",
        "\n",
        "predictions = predict(model, reviews)\n",
        "display(predictions)\n"
      ],
      "execution_count": null,
      "outputs": [
        {
          "output_type": "stream",
          "text": [
            "Tokenizing input sentences...\n",
            "Predicting...\n"
          ],
          "name": "stdout"
        },
        {
          "output_type": "display_data",
          "data": {
            "text/html": [
              "<div>\n",
              "<style scoped>\n",
              "    .dataframe tbody tr th:only-of-type {\n",
              "        vertical-align: middle;\n",
              "    }\n",
              "\n",
              "    .dataframe tbody tr th {\n",
              "        vertical-align: top;\n",
              "    }\n",
              "\n",
              "    .dataframe thead th {\n",
              "        text-align: right;\n",
              "    }\n",
              "</style>\n",
              "<table border=\"1\" class=\"dataframe\">\n",
              "  <thead>\n",
              "    <tr style=\"text-align: right;\">\n",
              "      <th></th>\n",
              "      <th>Review</th>\n",
              "      <th>Negative</th>\n",
              "      <th>Positive</th>\n",
              "      <th>Overall Sentiment</th>\n",
              "    </tr>\n",
              "  </thead>\n",
              "  <tbody>\n",
              "    <tr>\n",
              "      <th>0</th>\n",
              "      <td>I would not buy these marshmallows again.</td>\n",
              "      <td>0.851062</td>\n",
              "      <td>0.149003</td>\n",
              "      <td>0</td>\n",
              "    </tr>\n",
              "    <tr>\n",
              "      <th>1</th>\n",
              "      <td>These marshmallows are too small. Would not bu...</td>\n",
              "      <td>0.790782</td>\n",
              "      <td>0.209907</td>\n",
              "      <td>0</td>\n",
              "    </tr>\n",
              "    <tr>\n",
              "      <th>2</th>\n",
              "      <td>Buy.</td>\n",
              "      <td>0.723285</td>\n",
              "      <td>0.277712</td>\n",
              "      <td>0</td>\n",
              "    </tr>\n",
              "    <tr>\n",
              "      <th>3</th>\n",
              "      <td>Don't buy.</td>\n",
              "      <td>0.723285</td>\n",
              "      <td>0.277712</td>\n",
              "      <td>0</td>\n",
              "    </tr>\n",
              "    <tr>\n",
              "      <th>4</th>\n",
              "      <td>All of these marshmallows were super fluffy! I...</td>\n",
              "      <td>0.396512</td>\n",
              "      <td>0.604108</td>\n",
              "      <td>1</td>\n",
              "    </tr>\n",
              "    <tr>\n",
              "      <th>5</th>\n",
              "      <td>Marshmallows are made of sugar.</td>\n",
              "      <td>0.346722</td>\n",
              "      <td>0.654181</td>\n",
              "      <td>1</td>\n",
              "    </tr>\n",
              "  </tbody>\n",
              "</table>\n",
              "</div>"
            ],
            "text/plain": [
              "                                              Review  ...  Overall Sentiment\n",
              "0          I would not buy these marshmallows again.  ...                  0\n",
              "1  These marshmallows are too small. Would not bu...  ...                  0\n",
              "2                                               Buy.  ...                  0\n",
              "3                                         Don't buy.  ...                  0\n",
              "4  All of these marshmallows were super fluffy! I...  ...                  1\n",
              "5                    Marshmallows are made of sugar.  ...                  1\n",
              "\n",
              "[6 rows x 4 columns]"
            ]
          },
          "metadata": {
            "tags": []
          }
        }
      ]
    },
    {
      "cell_type": "markdown",
      "metadata": {
        "id": "zjtJd5qQlnFK"
      },
      "source": [
        "#Recommendation System\n",
        "\n"
      ]
    },
    {
      "cell_type": "code",
      "metadata": {
        "colab": {
          "base_uri": "https://localhost:8080/",
          "height": 289
        },
        "id": "h3R0GFRRlvZx",
        "outputId": "8d6b3fc0-ea38-4935-afa3-94fc4add5b56"
      },
      "source": [
        "# we now use df2 from the previous data import\n",
        "df2.head()"
      ],
      "execution_count": null,
      "outputs": [
        {
          "output_type": "execute_result",
          "data": {
            "text/html": [
              "<div>\n",
              "<style scoped>\n",
              "    .dataframe tbody tr th:only-of-type {\n",
              "        vertical-align: middle;\n",
              "    }\n",
              "\n",
              "    .dataframe tbody tr th {\n",
              "        vertical-align: top;\n",
              "    }\n",
              "\n",
              "    .dataframe thead th {\n",
              "        text-align: right;\n",
              "    }\n",
              "</style>\n",
              "<table border=\"1\" class=\"dataframe\">\n",
              "  <thead>\n",
              "    <tr style=\"text-align: right;\">\n",
              "      <th></th>\n",
              "      <th>Id</th>\n",
              "      <th>ProductId</th>\n",
              "      <th>UserId</th>\n",
              "      <th>ProfileName</th>\n",
              "      <th>HelpfulnessNumerator</th>\n",
              "      <th>HelpfulnessDenominator</th>\n",
              "      <th>Score</th>\n",
              "      <th>Time</th>\n",
              "      <th>Summary</th>\n",
              "      <th>Text</th>\n",
              "    </tr>\n",
              "  </thead>\n",
              "  <tbody>\n",
              "    <tr>\n",
              "      <th>0</th>\n",
              "      <td>1</td>\n",
              "      <td>B001E4KFG0</td>\n",
              "      <td>A3SGXH7AUHU8GW</td>\n",
              "      <td>delmartian</td>\n",
              "      <td>1</td>\n",
              "      <td>1</td>\n",
              "      <td>5</td>\n",
              "      <td>1303862400</td>\n",
              "      <td>Good Quality Dog Food</td>\n",
              "      <td>I have bought several of the Vitality canned d...</td>\n",
              "    </tr>\n",
              "    <tr>\n",
              "      <th>1</th>\n",
              "      <td>2</td>\n",
              "      <td>B00813GRG4</td>\n",
              "      <td>A1D87F6ZCVE5NK</td>\n",
              "      <td>dll pa</td>\n",
              "      <td>0</td>\n",
              "      <td>0</td>\n",
              "      <td>1</td>\n",
              "      <td>1346976000</td>\n",
              "      <td>Not as Advertised</td>\n",
              "      <td>Product arrived labeled as Jumbo Salted Peanut...</td>\n",
              "    </tr>\n",
              "    <tr>\n",
              "      <th>2</th>\n",
              "      <td>3</td>\n",
              "      <td>B000LQOCH0</td>\n",
              "      <td>ABXLMWJIXXAIN</td>\n",
              "      <td>Natalia Corres \"Natalia Corres\"</td>\n",
              "      <td>1</td>\n",
              "      <td>1</td>\n",
              "      <td>4</td>\n",
              "      <td>1219017600</td>\n",
              "      <td>\"Delight\" says it all</td>\n",
              "      <td>This is a confection that has been around a fe...</td>\n",
              "    </tr>\n",
              "    <tr>\n",
              "      <th>3</th>\n",
              "      <td>4</td>\n",
              "      <td>B000UA0QIQ</td>\n",
              "      <td>A395BORC6FGVXV</td>\n",
              "      <td>Karl</td>\n",
              "      <td>3</td>\n",
              "      <td>3</td>\n",
              "      <td>2</td>\n",
              "      <td>1307923200</td>\n",
              "      <td>Cough Medicine</td>\n",
              "      <td>If you are looking for the secret ingredient i...</td>\n",
              "    </tr>\n",
              "    <tr>\n",
              "      <th>4</th>\n",
              "      <td>5</td>\n",
              "      <td>B006K2ZZ7K</td>\n",
              "      <td>A1UQRSCLF8GW1T</td>\n",
              "      <td>Michael D. Bigham \"M. Wassir\"</td>\n",
              "      <td>0</td>\n",
              "      <td>0</td>\n",
              "      <td>5</td>\n",
              "      <td>1350777600</td>\n",
              "      <td>Great taffy</td>\n",
              "      <td>Great taffy at a great price.  There was a wid...</td>\n",
              "    </tr>\n",
              "  </tbody>\n",
              "</table>\n",
              "</div>"
            ],
            "text/plain": [
              "   Id  ...                                               Text\n",
              "0   1  ...  I have bought several of the Vitality canned d...\n",
              "1   2  ...  Product arrived labeled as Jumbo Salted Peanut...\n",
              "2   3  ...  This is a confection that has been around a fe...\n",
              "3   4  ...  If you are looking for the secret ingredient i...\n",
              "4   5  ...  Great taffy at a great price.  There was a wid...\n",
              "\n",
              "[5 rows x 10 columns]"
            ]
          },
          "metadata": {
            "tags": []
          },
          "execution_count": 35
        }
      ]
    },
    {
      "cell_type": "markdown",
      "metadata": {
        "id": "JJzyWoJFmYo8"
      },
      "source": [
        "##1. Product based collaborative filtering "
      ]
    },
    {
      "cell_type": "code",
      "metadata": {
        "id": "TiHGBEetn3XJ"
      },
      "source": [
        "# df2 is the raw data, we want to import it \n",
        "df = df2"
      ],
      "execution_count": null,
      "outputs": []
    },
    {
      "cell_type": "code",
      "metadata": {
        "id": "gTr5yN-uoB-P"
      },
      "source": [
        "#compute the count and mean value as group by the products\n",
        "count = df.groupby(\"ProductId\", as_index=False).count()\n",
        "mean = df.groupby(\"ProductId\", as_index=False).mean()\n",
        "\n",
        "#merge two dataset create df1\n",
        "df1 = pd.merge(df, count, how='right', on=['ProductId'])\n",
        "\n",
        "#rename column\n",
        "df1[\"Count\"] = df1[\"UserId_y\"]\n",
        "df1[\"Score\"] = df1[\"Score_x\"]\n",
        "df1[\"Summary\"] = df1[\"Summary_x\"]\n",
        "\n",
        "#Create New datafram with selected variables\n",
        "df1 = df1[['ProductId','Summary','Score',\"Count\"]]"
      ],
      "execution_count": null,
      "outputs": []
    },
    {
      "cell_type": "code",
      "metadata": {
        "id": "9_G7bJFsoFqG"
      },
      "source": [
        "#choose only products have over 100 reviews\n",
        "df2 = df1[df1.Count >= 100]"
      ],
      "execution_count": null,
      "outputs": []
    },
    {
      "cell_type": "code",
      "metadata": {
        "id": "MXzX2nJMoK1l"
      },
      "source": [
        "#create new dataframe as combining all summary with same product Id\n",
        "df4 = df.groupby(\"ProductId\", as_index=False).mean()\n",
        "combine_summary = df2.groupby(\"ProductId\")[\"Summary\"].apply(list)\n",
        "combine_summary = pd.DataFrame(combine_summary)\n",
        "combine_summary.to_csv(\"combine_summary.csv\")"
      ],
      "execution_count": null,
      "outputs": []
    },
    {
      "cell_type": "code",
      "metadata": {
        "id": "3cZFYuj8oNJF"
      },
      "source": [
        "#create with certain columns\n",
        "df3 = pd.read_csv(\"combine_summary.csv\")\n",
        "df3 = pd.merge(df3, df4, on=\"ProductId\", how='inner')\n",
        "df3 = df3[['ProductId','Summary','Score']]"
      ],
      "execution_count": null,
      "outputs": []
    },
    {
      "cell_type": "markdown",
      "metadata": {
        "id": "5NkY7aJGoWWH"
      },
      "source": [
        "#1a. Text Clean process - Summary column"
      ]
    },
    {
      "cell_type": "code",
      "metadata": {
        "id": "9n-qzzo_oZxu"
      },
      "source": [
        "#function for tokenizing summary\n",
        "cleanup_re = re.compile('[^a-z]+')\n",
        "def cleanup(sentence):\n",
        "    sentence = sentence.lower()\n",
        "    sentence = cleanup_re.sub(' ', sentence).strip()\n",
        "    sentence = \" \".join(nltk.word_tokenize(sentence))\n",
        "    return sentence"
      ],
      "execution_count": null,
      "outputs": []
    },
    {
      "cell_type": "code",
      "metadata": {
        "id": "ZzALInZ7ob78"
      },
      "source": [
        "#reset index and drop duplicate rows\n",
        "df3[\"Summary_Clean\"] = df3[\"Summary\"].apply(cleanup)\n",
        "df3 = df3.drop_duplicates(['Score'], keep='last')\n",
        "df3 = df3.reset_index()"
      ],
      "execution_count": null,
      "outputs": []
    },
    {
      "cell_type": "code",
      "metadata": {
        "id": "BbBZeQn7oe5T"
      },
      "source": [
        "docs = df3[\"Summary_Clean\"] \n",
        "vect = CountVectorizer(max_features = 100, stop_words='english') \n",
        "X = vect.fit_transform(docs) \n",
        "\n",
        "df5 = DataFrame(X.A, columns=vect.get_feature_names())\n",
        "df5 = df5.astype(int)"
      ],
      "execution_count": null,
      "outputs": []
    },
    {
      "cell_type": "code",
      "metadata": {
        "id": "bhSRhjiNoibA"
      },
      "source": [
        "#save \n",
        "df5.to_csv(\"df5.csv\")"
      ],
      "execution_count": null,
      "outputs": []
    },
    {
      "cell_type": "code",
      "metadata": {
        "id": "kgqpOtYdolJM"
      },
      "source": [
        "# First let's create a dataset called X\n",
        "X = np.array(df5)\n",
        " # create train and test\n",
        "tpercent = 0.9\n",
        "tsize = int(np.floor(tpercent * len(df5)))\n",
        "df5_train = X[:tsize]\n",
        "df5_test = X[tsize:]\n",
        "#len of train and test\n",
        "lentrain = len(df5_train)\n",
        "lentest = len(df5_test)"
      ],
      "execution_count": null,
      "outputs": []
    },
    {
      "cell_type": "markdown",
      "metadata": {
        "id": "gol9bAzjomYP"
      },
      "source": [
        "#1b. KNN classifier to find similar products "
      ]
    },
    {
      "cell_type": "code",
      "metadata": {
        "id": "RsiyeJsAo3-h"
      },
      "source": [
        "from sklearn.neighbors import NearestNeighbors\n",
        "from sklearn import neighbors\n",
        "from scipy.spatial.distance import cosine\n",
        "from sklearn.metrics import classification_report\n",
        "from sklearn.metrics import accuracy_score"
      ],
      "execution_count": null,
      "outputs": []
    },
    {
      "cell_type": "code",
      "metadata": {
        "id": "THy6t6Gbo6jq"
      },
      "source": [
        "# Next we will instantiate a nearest neighbor object, and call it nbrs. Then we will fit it to dataset X.\n",
        "nbrs = NearestNeighbors(n_neighbors=3, algorithm='ball_tree').fit(df5_train)\n",
        "\n",
        "# Let's find the k-neighbors of each point in object X. To do that we call the kneighbors() function on object X.\n",
        "distances, indices = nbrs.kneighbors(df5_train)"
      ],
      "execution_count": null,
      "outputs": []
    },
    {
      "cell_type": "code",
      "metadata": {
        "colab": {
          "base_uri": "https://localhost:8080/"
        },
        "id": "3D8JcgkQpAsY",
        "outputId": "cd80dd2d-8a6e-48cb-aa1b-2efe466b2a55"
      },
      "source": [
        "#find most related products\n",
        "for i in range(lentest):\n",
        "    a = nbrs.kneighbors([df5_test[i]])\n",
        "    related_product_list = a[1]\n",
        "    \n",
        "    first_related_product = [item[0] for item in related_product_list]\n",
        "    first_related_product = str(first_related_product).strip('[]')\n",
        "    first_related_product = int(first_related_product)\n",
        "    second_related_product = [item[1] for item in related_product_list]\n",
        "    second_related_product = str(second_related_product).strip('[]')\n",
        "    second_related_product = int(second_related_product)\n",
        "    \n",
        "    print (\"Based on product reviews, for \", df3[\"ProductId\"][lentrain + i] ,\" and this average Score is \",df3[\"Score\"][lentrain + i])\n",
        "    print (\"The first similar product is \", df3[\"ProductId\"][first_related_product] ,\" and this average Score is \",df3[\"Score\"][first_related_product])\n",
        "    print (\"The second similar product is \", df3[\"ProductId\"][second_related_product] ,\" and this average Score is \",df3[\"Score\"][second_related_product])\n",
        "    print (\"-----------------------------------------------------------\")"
      ],
      "execution_count": null,
      "outputs": [
        {
          "output_type": "stream",
          "text": [
            "Based on product reviews, for  B007TGDXMU  and this average Score is  4.517006802721088\n",
            "The first similar product is  B005ZBZLPI  and this average Score is  4.0\n",
            "The second similar product is  B000SDKDM4  and this average Score is  4.08252427184466\n",
            "-----------------------------------------------------------\n",
            "Based on product reviews, for  B007TGDXNO  and this average Score is  4.3478260869565215\n",
            "The first similar product is  B007TGDXMK  and this average Score is  4.143540669856459\n",
            "The second similar product is  B00451WLYI  and this average Score is  4.517647058823529\n",
            "-----------------------------------------------------------\n",
            "Based on product reviews, for  B007TJGY5K  and this average Score is  4.119496855345912\n",
            "The first similar product is  B007L3NVKU  and this average Score is  4.355072463768116\n",
            "The second similar product is  B0027Z8VES  and this average Score is  4.341269841269841\n",
            "-----------------------------------------------------------\n",
            "Based on product reviews, for  B007TJGZ0Y  and this average Score is  4.384615384615385\n",
            "The first similar product is  B002QGK2V8  and this average Score is  3.4484848484848483\n",
            "The second similar product is  B0000V8IOE  and this average Score is  3.9274193548387095\n",
            "-----------------------------------------------------------\n",
            "Based on product reviews, for  B007TJGZ54  and this average Score is  4.243801652892562\n",
            "The first similar product is  B006N3I29E  and this average Score is  4.245689655172414\n",
            "The second similar product is  B002AQ0OL2  and this average Score is  4.058035714285714\n",
            "-----------------------------------------------------------\n",
            "Based on product reviews, for  B007TJGZ5E  and this average Score is  4.412790697674419\n",
            "The first similar product is  B005GXHKSG  and this average Score is  4.40625\n",
            "The second similar product is  B001E50THY  and this average Score is  4.044642857142857\n",
            "-----------------------------------------------------------\n",
            "Based on product reviews, for  B007Y59HVM  and this average Score is  4.363636363636363\n",
            "The first similar product is  B0013A0QXC  and this average Score is  4.343173431734317\n",
            "The second similar product is  B006N3IG4K  and this average Score is  3.934065934065934\n",
            "-----------------------------------------------------------\n",
            "Based on product reviews, for  B0081X097M  and this average Score is  4.766990291262136\n",
            "The first similar product is  B00507A02Q  and this average Score is  2.8412698412698414\n",
            "The second similar product is  B00012182G  and this average Score is  3.5826771653543306\n",
            "-----------------------------------------------------------\n",
            "Based on product reviews, for  B0081XIAUK  and this average Score is  3.549618320610687\n",
            "The first similar product is  B0009XSXZM  and this average Score is  3.7610619469026547\n",
            "The second similar product is  B001P3NU44  and this average Score is  4.1652892561983474\n",
            "-----------------------------------------------------------\n",
            "Based on product reviews, for  B0081XPTBS  and this average Score is  4.181518151815181\n",
            "The first similar product is  B0032CJPOK  and this average Score is  4.184210526315789\n",
            "The second similar product is  B002FJM9SU  and this average Score is  3.683333333333333\n",
            "-----------------------------------------------------------\n",
            "Based on product reviews, for  B0083QJU72  and this average Score is  4.696969696969697\n",
            "The first similar product is  B000VK08OC  and this average Score is  4.491379310344827\n",
            "The second similar product is  B005P0NLJ2  and this average Score is  4.445255474452555\n",
            "-----------------------------------------------------------\n",
            "Based on product reviews, for  B0083T5TAQ  and this average Score is  3.0454545454545454\n",
            "The first similar product is  B005HGAV8I  and this average Score is  3.7651821862348176\n",
            "The second similar product is  B005HUVI40  and this average Score is  3.9917355371900825\n",
            "-----------------------------------------------------------\n",
            "Based on product reviews, for  B0083T6HC0  and this average Score is  3.6123348017621146\n",
            "The first similar product is  B005HGAV8I  and this average Score is  3.7651821862348176\n",
            "The second similar product is  B001EQ5ERI  and this average Score is  4.215686274509804\n",
            "-----------------------------------------------------------\n",
            "Based on product reviews, for  B00866AM2G  and this average Score is  3.6621621621621623\n",
            "The first similar product is  B001HTJ2BQ  and this average Score is  3.3063063063063063\n",
            "The second similar product is  B00507A02Q  and this average Score is  2.8412698412698414\n",
            "-----------------------------------------------------------\n",
            "Based on product reviews, for  B0089SPENI  and this average Score is  4.181034482758621\n",
            "The first similar product is  B000CQIDJM  and this average Score is  3.966386554621849\n",
            "The second similar product is  B007RLRCLK  and this average Score is  4.251461988304094\n",
            "-----------------------------------------------------------\n",
            "Based on product reviews, for  B008ATDIDE  and this average Score is  3.8859649122807016\n",
            "The first similar product is  B006WLNUWG  and this average Score is  4.640350877192983\n",
            "The second similar product is  B000ED9L9E  and this average Score is  4.9734513274336285\n",
            "-----------------------------------------------------------\n",
            "Based on product reviews, for  B008CTBK7S  and this average Score is  4.455696202531645\n",
            "The first similar product is  B0016BAB42  and this average Score is  3.980769230769231\n",
            "The second similar product is  B001E5E0Y2  and this average Score is  4.578512396694215\n",
            "-----------------------------------------------------------\n",
            "Based on product reviews, for  B008EG5ADY  and this average Score is  4.314285714285714\n",
            "The first similar product is  B006BXV130  and this average Score is  3.528\n",
            "The second similar product is  B007POT6RM  and this average Score is  3.692982456140351\n",
            "-----------------------------------------------------------\n",
            "Based on product reviews, for  B008FHUCNU  and this average Score is  4.3931623931623935\n",
            "The first similar product is  B001CHJ01A  and this average Score is  4.364485981308412\n",
            "The second similar product is  B005HUVI40  and this average Score is  3.9917355371900825\n",
            "-----------------------------------------------------------\n",
            "Based on product reviews, for  B008FHUDW0  and this average Score is  4.3515625\n",
            "The first similar product is  B005HUVI40  and this average Score is  3.9917355371900825\n",
            "The second similar product is  B002TMV34E  and this average Score is  3.9\n",
            "-----------------------------------------------------------\n",
            "Based on product reviews, for  B008FHUFAU  and this average Score is  4.314465408805032\n",
            "The first similar product is  B001D0GV90  and this average Score is  4.437837837837838\n",
            "The second similar product is  B0045IO37Y  and this average Score is  4.054054054054054\n",
            "-----------------------------------------------------------\n",
            "Based on product reviews, for  B008FHUGNQ  and this average Score is  4.258205689277899\n",
            "The first similar product is  B006N3IG4K  and this average Score is  3.934065934065934\n",
            "The second similar product is  B005VOONM6  and this average Score is  3.8472222222222223\n",
            "-----------------------------------------------------------\n",
            "Based on product reviews, for  B008FHUKE6  and this average Score is  4.188976377952756\n",
            "The first similar product is  B007TGDXMK  and this average Score is  4.143540669856459\n",
            "The second similar product is  B005ZBZLPI  and this average Score is  4.0\n",
            "-----------------------------------------------------------\n",
            "Based on product reviews, for  B008GRIB0A  and this average Score is  3.88953488372093\n",
            "The first similar product is  B002QGK2V8  and this average Score is  3.4484848484848483\n",
            "The second similar product is  B005HUVI40  and this average Score is  3.9917355371900825\n",
            "-----------------------------------------------------------\n",
            "Based on product reviews, for  B008GRONV6  and this average Score is  4.598540145985401\n",
            "The first similar product is  B001P3PR54  and this average Score is  4.527272727272727\n",
            "The second similar product is  B001P3NU30  and this average Score is  4.138297872340425\n",
            "-----------------------------------------------------------\n",
            "Based on product reviews, for  B008I1XPKA  and this average Score is  3.7152317880794703\n",
            "The first similar product is  B005HUVI40  and this average Score is  3.9917355371900825\n",
            "The second similar product is  B0000V8IOE  and this average Score is  3.9274193548387095\n",
            "-----------------------------------------------------------\n",
            "Based on product reviews, for  B008J1HO4C  and this average Score is  4.682584269662922\n",
            "The first similar product is  B000EVOSE4  and this average Score is  4.414110429447852\n",
            "The second similar product is  B000H7LVKY  and this average Score is  4.55625\n",
            "-----------------------------------------------------------\n",
            "Based on product reviews, for  B008JKU2CO  and this average Score is  4.361038961038961\n",
            "The first similar product is  B0034EFIYC  and this average Score is  4.4879518072289155\n",
            "The second similar product is  B004GW6O9E  and this average Score is  4.410852713178294\n",
            "-----------------------------------------------------------\n",
            "Based on product reviews, for  B008O3G2K2  and this average Score is  3.5060240963855422\n",
            "The first similar product is  B001P3NU44  and this average Score is  4.1652892561983474\n",
            "The second similar product is  B001Q9EFW8  and this average Score is  3.908256880733945\n",
            "-----------------------------------------------------------\n",
            "Based on product reviews, for  B008RWUKXK  and this average Score is  4.15593220338983\n",
            "The first similar product is  B004BKLHOS  and this average Score is  4.274834437086093\n",
            "The second similar product is  B003XDH6M6  and this average Score is  4.023489932885906\n",
            "-----------------------------------------------------------\n",
            "Based on product reviews, for  B008YA1NWC  and this average Score is  4.458064516129032\n",
            "The first similar product is  B001CHJ01A  and this average Score is  4.364485981308412\n",
            "The second similar product is  B002QGK2V8  and this average Score is  3.4484848484848483\n",
            "-----------------------------------------------------------\n",
            "Based on product reviews, for  B008ZRKZSM  and this average Score is  4.467741935483871\n",
            "The first similar product is  B004CLCEDE  and this average Score is  3.509259259259259\n",
            "The second similar product is  B005PXZ6JM  and this average Score is  4.4113924050632916\n",
            "-----------------------------------------------------------\n",
            "Based on product reviews, for  B0090X8IPM  and this average Score is  3.8132075471698115\n",
            "The first similar product is  B005VOONM6  and this average Score is  3.8472222222222223\n",
            "The second similar product is  B006N3IG4K  and this average Score is  3.934065934065934\n",
            "-----------------------------------------------------------\n",
            "Based on product reviews, for  B00954NYVY  and this average Score is  4.561797752808989\n",
            "The first similar product is  B001D0GV90  and this average Score is  4.437837837837838\n",
            "The second similar product is  B002AQ0OS0  and this average Score is  3.911392405063291\n",
            "-----------------------------------------------------------\n",
            "Based on product reviews, for  B0098WV8F2  and this average Score is  4.390697674418605\n",
            "The first similar product is  B004CLCEDE  and this average Score is  3.509259259259259\n",
            "The second similar product is  B0006Z7NOK  and this average Score is  4.612676056338028\n",
            "-----------------------------------------------------------\n",
            "Based on product reviews, for  B009E7YC54  and this average Score is  4.642857142857143\n",
            "The first similar product is  B000VK08OC  and this average Score is  4.491379310344827\n",
            "The second similar product is  B001P74NXM  and this average Score is  4.431952662721893\n",
            "-----------------------------------------------------------\n",
            "Based on product reviews, for  B009RB4GO4  and this average Score is  3.143426294820717\n",
            "The first similar product is  B005A1LGIY  and this average Score is  3.9731182795698925\n",
            "The second similar product is  B000EVQWKC  and this average Score is  2.8803418803418803\n",
            "-----------------------------------------------------------\n"
          ],
          "name": "stdout"
        }
      ]
    },
    {
      "cell_type": "markdown",
      "metadata": {
        "id": "bD__CTMdpKlL"
      },
      "source": [
        "#1c. Predicting Review Score"
      ]
    },
    {
      "cell_type": "code",
      "metadata": {
        "colab": {
          "base_uri": "https://localhost:8080/"
        },
        "id": "OpWI5shjpOgh",
        "outputId": "51f55ef0-a990-4dda-dfcc-1f5044e9d096"
      },
      "source": [
        "df5_train_target = df3[\"Score\"][:lentrain]\n",
        "df5_test_target = df3[\"Score\"][lentrain:lentrain+lentest]\n",
        "df5_train_target = df5_train_target.astype(int)\n",
        "df5_test_target = df5_test_target.astype(int)\n",
        "\n",
        "n_neighbors = 3\n",
        "knnclf = neighbors.KNeighborsClassifier(n_neighbors, weights='distance')\n",
        "knnclf.fit(df5_train, df5_train_target)\n",
        "knnpreds_test = knnclf.predict(df5_test)\n",
        "print (knnpreds_test)\n",
        "\n",
        "print(classification_report(df5_test_target, knnpreds_test))\n",
        "print (accuracy_score(df5_test_target, knnpreds_test))"
      ],
      "execution_count": null,
      "outputs": [
        {
          "output_type": "stream",
          "text": [
            "[4 4 4 3 4 4 3 3 3 4 4 3 3 3 4 4 4 3 3 3 4 3 4 3 4 3 4 4 4 4 4 4 3 4 3 4 3]\n",
            "              precision    recall  f1-score   support\n",
            "\n",
            "           3       0.50      0.80      0.62        10\n",
            "           4       0.90      0.70      0.79        27\n",
            "\n",
            "    accuracy                           0.73        37\n",
            "   macro avg       0.70      0.75      0.70        37\n",
            "weighted avg       0.80      0.73      0.74        37\n",
            "\n",
            "0.7297297297297297\n"
          ],
          "name": "stdout"
        }
      ]
    },
    {
      "cell_type": "markdown",
      "metadata": {
        "id": "K1fuZgZbpeLS"
      },
      "source": [
        "#2. User based collaborative filtering"
      ]
    },
    {
      "cell_type": "code",
      "metadata": {
        "id": "JwjlieU4piZ-"
      },
      "source": [
        "count = df.groupby(\"UserId\", as_index=False).count()\n",
        "mean = df.groupby(\"UserId\", as_index=False).mean()\n",
        "\n",
        "#merge two dataset create df1\n",
        "df1 = pd.merge(df, count, how='right', on=[\"UserId\"])\n",
        "#rename column\n",
        "df1[\"Count\"] = df1[\"ProductId_y\"]\n",
        "df1[\"Score\"] = df1[\"Score_x\"]\n",
        "df1[\"Summary\"] = df1[\"Summary_x\"]\n",
        "\n",
        "#Create New datafram with selected variables\n",
        "df1 = df1[[\"UserId\",'Summary','Score',\"Count\"]]"
      ],
      "execution_count": null,
      "outputs": []
    },
    {
      "cell_type": "code",
      "metadata": {
        "id": "8E1TYBNbpnv1"
      },
      "source": [
        "#choose only products have over 100 reviews\n",
        "df2 = df1[df1.Count >= 100]"
      ],
      "execution_count": null,
      "outputs": []
    },
    {
      "cell_type": "code",
      "metadata": {
        "id": "8enWiO72prZ-"
      },
      "source": [
        "df4 = df.groupby(\"UserId\", as_index=False).mean()\n",
        "combine_summary = df2.groupby(\"UserId\")[\"Summary\"].apply(list)\n",
        "combine_summary = pd.DataFrame(combine_summary)\n",
        "combine_summary.to_csv(\"combine_summary.csv\")"
      ],
      "execution_count": null,
      "outputs": []
    },
    {
      "cell_type": "code",
      "metadata": {
        "id": "gq5_1BEEptLh"
      },
      "source": [
        "df3 = pd.read_csv(\"combine_summary.csv\")\n",
        "df3 = pd.merge(df3, df4, on=\"UserId\", how='inner')\n",
        "df3 = df3[['UserId','Summary','Score']]"
      ],
      "execution_count": null,
      "outputs": []
    },
    {
      "cell_type": "code",
      "metadata": {
        "id": "rW9aLRWApvxa"
      },
      "source": [
        "df3[\"Summary_Clean\"] = df3[\"Summary\"].apply(cleanup)\n",
        "df3 = df3.drop_duplicates(['Score'], keep='last')\n",
        "df3 = df3.reset_index()"
      ],
      "execution_count": null,
      "outputs": []
    },
    {
      "cell_type": "code",
      "metadata": {
        "id": "XzFaGaPFpyR3"
      },
      "source": [
        " docs = df3[\"Summary_Clean\"] \n",
        "vect = CountVectorizer(max_features = 100, stop_words='english') \n",
        "X = vect.fit_transform(docs) \n",
        "#print(DataFrame(X.A, columns=vect.get_feature_names()).to_string()) \n",
        "df5 = DataFrame(X.A, columns=vect.get_feature_names())\n",
        "df5 = df5.astype(int)"
      ],
      "execution_count": null,
      "outputs": []
    },
    {
      "cell_type": "code",
      "metadata": {
        "id": "oEKEorpEp1sC"
      },
      "source": [
        "df5.to_csv(\"df5.csv\")\n",
        "kkk  = df.drop_duplicates(['Summary'], keep='last')\n",
        "kkk = kkk.reset_index()"
      ],
      "execution_count": null,
      "outputs": []
    },
    {
      "cell_type": "markdown",
      "metadata": {
        "id": "wi9gVF1yp5nn"
      },
      "source": [
        "2b. KNN classifier to find similar user and find their interesting products"
      ]
    },
    {
      "cell_type": "code",
      "metadata": {
        "id": "KTtGGLHsqAXq"
      },
      "source": [
        "# First let's create a dataset called X, with 6 records and 2 features each.\n",
        "X = np.array(df5)\n",
        "\n",
        "tpercent = 0.95\n",
        "tsize = int(np.floor(tpercent * len(df5)))\n",
        "df5_train = X[:tsize]\n",
        "df5_test = X[tsize:]\n",
        "\n",
        "lentrain = len(df5_train)\n",
        "lentest = len(df5_test)\n",
        "\n",
        "# Next we will instantiate a nearest neighbor object, and call it nbrs. Then we will fit it to dataset X.\n",
        "nbrs = NearestNeighbors(n_neighbors=3, algorithm='ball_tree').fit(df5_train)\n",
        "\n",
        "# Let's find the k-neighbors of each point in object X. To do that we call the kneighbors() function on object X.\n",
        "distances, indices = nbrs.kneighbors(df5_train)"
      ],
      "execution_count": null,
      "outputs": []
    },
    {
      "cell_type": "code",
      "metadata": {
        "colab": {
          "base_uri": "https://localhost:8080/"
        },
        "id": "kGKKLHXMqDAX",
        "outputId": "096f8e8d-8462-424e-f92b-905e7314c083"
      },
      "source": [
        "#finding similar user and intereting products\n",
        "for i in range(lentest):\n",
        "    a = nbrs.kneighbors([df5_test[i]])\n",
        "    related_product_list = a[1]\n",
        "    \n",
        "    first_related_product = [item[0] for item in related_product_list]\n",
        "    first_related_product = str(first_related_product).strip('[]')\n",
        "    first_related_product = int(first_related_product)\n",
        "    second_related_product = [item[1] for item in related_product_list]\n",
        "    second_related_product = str(second_related_product).strip('[]')\n",
        "    second_related_product = int(second_related_product)\n",
        "    \n",
        "    print (\"Based on  reviews, for user is \", df3[\"UserId\"][lentrain + i])\n",
        "    print (\"The first similar user is \", df3[\"UserId\"][first_related_product], \".\") \n",
        "    print (\"He/She likes following products\")\n",
        "    for i in range(295743):\n",
        "        if (kkk[\"UserId\"][i] == df3[\"UserId\"][first_related_product]) & (kkk[\"Score\"][i] == 5):\n",
        "            aaa= kkk[\"ProductId\"][i]\n",
        "        \n",
        "            print (aaa),\n",
        "    print (\"--------------------------------------------------------------------\")"
      ],
      "execution_count": null,
      "outputs": [
        {
          "output_type": "stream",
          "text": [
            "Based on  reviews, for user is  AY12DBB0U420B\n",
            "The first similar user is  A3FKGKUCI3DG9U .\n",
            "He/She likes following products\n",
            "B007K449CE\n",
            "B000EPUPSS\n",
            "B000F4DKAS\n",
            "B001OCBT3U\n",
            "B000EMM9WG\n",
            "B0014X5O1C\n",
            "B004158VLU\n",
            "B0018SMUVA\n",
            "B004BKLHOS\n",
            "B000F4J76E\n",
            "B000YCJRIU\n",
            "B008RWUHA6\n",
            "B000MPQ4Q2\n",
            "B000ETVRQS\n",
            "B001E6IUMY\n",
            "B000EMK4CS\n",
            "B0027MIP9C\n",
            "B001OCKIBY\n",
            "B004FQU4CE\n",
            "B000JVCBO8\n",
            "B002LMXFCU\n",
            "B007JT7ARQ\n",
            "--------------------------------------------------------------------\n",
            "Based on  reviews, for user is  AY1EF0GOH80EK\n",
            "The first similar user is  AKMEY1BSHSDG7 .\n",
            "He/She likes following products\n",
            "B000E5AO8O\n",
            "B0001UZTJG\n",
            "B0009XQSAY\n",
            "B000GWHFZA\n",
            "B000WHPNI0\n",
            "B001EQ55RW\n",
            "B000EXMP74\n",
            "B000NQ6TRY\n",
            "B000FA38ZE\n",
            "B000BLNU6E\n",
            "B001EQ4J42\n",
            "B00469PHX6\n",
            "B000CQ4D3C\n",
            "B001OCKI5U\n",
            "B003ZXHB7E\n",
            "B000STZRTW\n",
            "B0007R9L4M\n",
            "B000CBR2FS\n",
            "B000E1FZJG\n",
            "B000EXKS14\n",
            "B0043OX51U\n",
            "B001E5E060\n",
            "B001EQ4HM6\n",
            "B000OBYNQW\n",
            "B000E1FZBY\n",
            "B007TGO1U8\n",
            "B000E67210\n",
            "B000KNHFKU\n",
            "B005G2FCNM\n",
            "B0014X5O1C\n",
            "B000YPMKY0\n",
            "B000YW7Q0Q\n",
            "B004BKLHOS\n",
            "B000I60JUW\n",
            "B001EQ4IKW\n",
            "B001FA1KLW\n",
            "B000FKQD5G\n",
            "B000LKXNG2\n",
            "B0014ET0OI\n",
            "B000CQ4D50\n",
            "B001M0A6C4\n",
            "B000EDDSE8\n",
            "B004FEN3GK\n",
            "B001M0AKSE\n",
            "B001D3Q4DA\n",
            "B005NIBIWS\n",
            "B000EMK56I\n",
            "B0006004C8\n",
            "B000FMZO90\n",
            "B001EQ4DUM\n",
            "B000MFJLZS\n",
            "B000MFJLZS\n",
            "B006VC0ZYM\n",
            "B000EPR1KI\n",
            "B000EPR1KI\n",
            "B000633Y40\n",
            "B000EUG1SG\n",
            "B000P54HZY\n",
            "B000E65OQA\n",
            "B000NU4VSO\n",
            "B000E63LDS\n",
            "B000KEPBBY\n",
            "B000P52FLW\n",
            "B002AQKYEE\n",
            "B000HBIHK2\n",
            "B001EO5W2M\n",
            "B004E4HUMY\n",
            "B000E1FXNY\n",
            "B003EYXUXS\n",
            "B001CTJOQY\n",
            "B003HKY4R0\n",
            "B000MRTSB8\n",
            "B003G1ZRTY\n",
            "B0032GHHRS\n",
            "B004YGQPAK\n",
            "B001E6K6F8\n",
            "B0069QQTWC\n",
            "B0031QKZP0\n",
            "B008ATDIDE\n",
            "B003VZBFTG\n",
            "B001E4Q5GO\n",
            "B00028Q8V0\n",
            "B001SAXPEO\n",
            "B00094D202\n",
            "B001EO5U3I\n",
            "--------------------------------------------------------------------\n",
            "Based on  reviews, for user is  AYB4ELCS5AM8P\n",
            "The first similar user is  A1IU7S4HCK1XK0 .\n",
            "He/She likes following products\n",
            "B000NY8ODS\n",
            "B000ED9LDU\n",
            "B00060PTLO\n",
            "B000RJARJS\n",
            "B005HGOIQ4\n",
            "B000EGZ9AG\n",
            "B000EVOSE4\n",
            "B002IEZJMA\n",
            "B000EVQWHU\n",
            "B0014WYXQK\n",
            "B003T068FO\n",
            "B0000CNU2Q\n",
            "B007NWH0NS\n",
            "B000FJEURA\n",
            "B000J3K9KO\n",
            "B000JSM1SM\n",
            "B001SAYK5W\n",
            "B000LKUYGE\n",
            "B0036VLZ3G\n",
            "B004R6BJ62\n",
            "B000L3Q46U\n",
            "B00004S1C6\n",
            "B002R8BTNK\n",
            "B0000CNU1X\n",
            "B000B7R6QI\n",
            "B0000D9N59\n",
            "B000E63L7O\n",
            "B007R900WA\n",
            "B00020UGNO\n",
            "B006XYUS5O\n",
            "B0013JQ1I2\n",
            "B0000DHWZH\n",
            "B0000D9N0Q\n",
            "B002DMXSUW\n",
            "B0000ZHZA8\n",
            "B000EDI2N0\n",
            "B0000DD8X6\n",
            "B008K9TIU6\n",
            "B000FI2VHM\n",
            "B000EVOSHG\n",
            "B000MD3O4O\n",
            "B001KWEZTO\n",
            "B007OY1UR2\n",
            "B000E65OJC\n",
            "B007NWJWCU\n",
            "B002IEU6NW\n",
            "B007NU5N1G\n",
            "B001M074LK\n",
            "B004GWSWCQ\n",
            "B004VLSUGK\n",
            "B0000DBN1O\n",
            "B0000DBN1H\n",
            "B0000TVUE6\n",
            "B001EO63A2\n",
            "B006FTBNF6\n",
            "B006XAU5C4\n",
            "B000BU5KHC\n",
            "B0070SGNS8\n",
            "B007NU7UEY\n",
            "B0019FEOJI\n",
            "B001FA1MOC\n",
            "B000EVOQNC\n",
            "B0021I6MWY\n",
            "B000AQJRWG\n",
            "B000EDBPQ6\n",
            "B004V3IO0U\n",
            "B007NU6MDO\n",
            "B000EDBQ6A\n",
            "B003R0MFSU\n",
            "B0068P605K\n",
            "B0000VZ0F4\n",
            "B001FA1LAC\n",
            "B00014VTNW\n",
            "B001G0MG00\n",
            "B000E671X4\n",
            "B00164X9SE\n",
            "B0005Z7PI0\n",
            "B001EO5U3I\n",
            "--------------------------------------------------------------------\n",
            "Based on  reviews, for user is  AZV26LP92E6WU\n",
            "The first similar user is  A2Y8IDC1FKGNJC .\n",
            "He/She likes following products\n",
            "B000F0BXCE\n",
            "B001EQ5L0I\n",
            "B000G82L62\n",
            "B000F0JOVG\n",
            "B000ILI60M\n",
            "B000K8XM2A\n",
            "B000EHZZPE\n",
            "B00141SPNI\n",
            "B000V9PGSG\n",
            "B000CQ01NS\n",
            "B000LKXJW0\n",
            "B001BM3KXU\n",
            "B001EQ5SGU\n",
            "B000NMJWZO\n",
            "B000UPALJ0\n",
            "B001EQ5CTS\n",
            "B001MUBY66\n",
            "B0012C0X3O\n",
            "B000SARZ46\n",
            "B001E5E1WS\n",
            "B000FMZMN8\n",
            "B00141OU50\n",
            "B000LKZLJY\n",
            "B001KUSLGY\n",
            "B0072EMLAO\n",
            "B001BM62T4\n",
            "B000VIOQNS\n",
            "B00141WFWK\n",
            "B00503DOWS\n",
            "B002AR158W\n",
            "B000G176AK\n",
            "B000LKTZNM\n",
            "B001CWU9E2\n",
            "B000GW67KY\n",
            "B001HTIS98\n",
            "B0017WG1J4\n",
            "B008ATDIDE\n",
            "B001E5E08I\n",
            "B000HDKZKU\n",
            "B001EQ4KGY\n",
            "B000EHNCZ4\n",
            "--------------------------------------------------------------------\n"
          ],
          "name": "stdout"
        }
      ]
    },
    {
      "cell_type": "markdown",
      "metadata": {
        "id": "dw_L59u8qJnV"
      },
      "source": [
        "#2c.Predicting Review Score"
      ]
    },
    {
      "cell_type": "code",
      "metadata": {
        "id": "MpS8PemSqQPH",
        "colab": {
          "base_uri": "https://localhost:8080/"
        },
        "outputId": "c722bb63-0e83-4e57-ec24-33bb90a67568"
      },
      "source": [
        "df5_train_target = df3[\"Score\"][:lentrain]\n",
        "df5_test_target = df3[\"Score\"][lentrain:lentrain+lentest]\n",
        "df5_train_target = df5_train_target.astype(int)\n",
        "df5_test_target = df5_test_target.astype(int)\n",
        "\n",
        "n_neighbors = 3\n",
        "knnclf = neighbors.KNeighborsClassifier(n_neighbors, weights='distance')\n",
        "knnclf.fit(df5_train, df5_train_target)\n",
        "knnpreds_test = knnclf.predict(df5_test)\n",
        "print (\"Predicting review score for testset user are : \", knnpreds_test)\n",
        "\n",
        "print(classification_report(df5_test_target, knnpreds_test))"
      ],
      "execution_count": null,
      "outputs": [
        {
          "output_type": "stream",
          "text": [
            "Predicting review score for testset user are :  [3 4 4 4]\n",
            "              precision    recall  f1-score   support\n",
            "\n",
            "           3       0.00      0.00      0.00         0\n",
            "           4       1.00      0.75      0.86         4\n",
            "\n",
            "    accuracy                           0.75         4\n",
            "   macro avg       0.50      0.38      0.43         4\n",
            "weighted avg       1.00      0.75      0.86         4\n",
            "\n"
          ],
          "name": "stdout"
        }
      ]
    }
  ]
}